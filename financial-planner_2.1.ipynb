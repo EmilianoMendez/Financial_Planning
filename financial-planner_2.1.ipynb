{
 "cells": [
  {
   "cell_type": "markdown",
   "metadata": {},
   "source": [
    "# Unit 5 - Financial Planning"
   ]
  },
  {
   "cell_type": "code",
   "execution_count": 80,
   "metadata": {},
   "outputs": [],
   "source": [
    "# Initial imports\n",
    "import os\n",
    "import requests\n",
    "import pandas as pd\n",
    "from dotenv import load_dotenv\n",
    "import alpaca_trade_api as tradeapi\n",
    "from MCForecastTools import MCSimulation\n",
    "\n",
    "%matplotlib inline"
   ]
  },
  {
   "cell_type": "code",
   "execution_count": null,
   "metadata": {},
   "outputs": [
    {
     "ename": "NameError",
     "evalue": "name 'apikey' is not defined",
     "output_type": "error",
     "traceback": [
      "\u001b[0;31m---------------------------------------------------------------------------\u001b[0m",
      "\u001b[0;31mNameError\u001b[0m                                 Traceback (most recent call last)",
      "Input \u001b[0;32mIn [3]\u001b[0m, in \u001b[0;36m<cell line: 1>\u001b[0;34m()\u001b[0m\n\u001b[0;32m----> 1\u001b[0m \u001b[38;5;28mprint\u001b[39m(\u001b[43mapikey\u001b[49m)\n",
      "\u001b[0;31mNameError\u001b[0m: name 'apikey' is not defined"
     ]
    }
   ],
   "source": []
  },
  {
   "cell_type": "code",
   "execution_count": null,
   "metadata": {},
   "outputs": [],
   "source": []
  },
  {
   "cell_type": "code",
   "execution_count": 81,
   "metadata": {},
   "outputs": [
    {
     "name": "stdout",
     "output_type": "stream",
     "text": [
      "\u001b[34m.\u001b[m\u001b[m/                           \u001b[34mUntitled Folder\u001b[m\u001b[m/\n",
      "\u001b[34m..\u001b[m\u001b[m/                          Untitled.ipynb\n",
      ".DS_Store                    Untitled1.ipynb\n",
      ".env                         \u001b[34m__pycache__\u001b[m\u001b[m/\n",
      "\u001b[34m.ipynb_checkpoints\u001b[m\u001b[m/          financial-planner (1).ipynb\n",
      "MCForecastTools.py           financial-planner_2.ipynb\n"
     ]
    }
   ],
   "source": [
    "ls -a"
   ]
  },
  {
   "cell_type": "code",
   "execution_count": null,
   "metadata": {},
   "outputs": [],
   "source": []
  },
  {
   "cell_type": "code",
   "execution_count": 4,
   "metadata": {},
   "outputs": [
    {
     "data": {
      "text/plain": [
       "True"
      ]
     },
     "execution_count": 4,
     "metadata": {},
     "output_type": "execute_result"
    }
   ],
   "source": [
    "# Load .env enviroment variables\n",
    "load_dotenv()"
   ]
  },
  {
   "cell_type": "markdown",
   "metadata": {},
   "source": [
    "## Part 1 - Personal Finance Planner"
   ]
  },
  {
   "cell_type": "markdown",
   "metadata": {},
   "source": [
    "### Collect Crypto Prices Using the `requests` Library"
   ]
  },
  {
   "cell_type": "code",
   "execution_count": 5,
   "metadata": {},
   "outputs": [],
   "source": [
    "# Set current amount of crypto assets\n",
    "# Set current amount of crypto assets\n",
    "# 1.2 BTC and 5.3 ETH\n",
    "# 50 SPY (stocks) and 200 AGG (bonds)\n",
    "# Average household income for each member of the credit union is $12,000"
   ]
  },
  {
   "cell_type": "code",
   "execution_count": 6,
   "metadata": {},
   "outputs": [],
   "source": [
    "api_key = os.getenv(\"QUANDL_API_KEY\")"
   ]
  },
  {
   "cell_type": "code",
   "execution_count": null,
   "metadata": {},
   "outputs": [
    {
     "ename": "NameError",
     "evalue": "name 'api_key' is not defined",
     "output_type": "error",
     "traceback": [
      "\u001b[0;31m---------------------------------------------------------------------------\u001b[0m",
      "\u001b[0;31mNameError\u001b[0m                                 Traceback (most recent call last)",
      "Input \u001b[0;32mIn [6]\u001b[0m, in \u001b[0;36m<cell line: 1>\u001b[0;34m()\u001b[0m\n\u001b[0;32m----> 1\u001b[0m \u001b[38;5;28mprint\u001b[39m(\u001b[43mapi_key\u001b[49m)\n",
      "\u001b[0;31mNameError\u001b[0m: name 'api_key' is not defined"
     ]
    }
   ],
   "source": []
  },
  {
   "cell_type": "code",
   "execution_count": 83,
   "metadata": {},
   "outputs": [],
   "source": [
    "request_url = \"https://api.alternative.me/v2/ticker/Bitcoin/?convert=CAD\""
   ]
  },
  {
   "cell_type": "code",
   "execution_count": 84,
   "metadata": {},
   "outputs": [],
   "source": [
    "request_url = request_url + api_key"
   ]
  },
  {
   "cell_type": "code",
   "execution_count": 85,
   "metadata": {},
   "outputs": [],
   "source": [
    "response_data = requests.get(request_url)"
   ]
  },
  {
   "cell_type": "code",
   "execution_count": 86,
   "metadata": {},
   "outputs": [
    {
     "data": {
      "text/plain": [
       "'https://api.alternative.me/v2/ticker/Bitcoin/?convert=CAD5oGVoxMmhYUx-hAP3AN6'"
      ]
     },
     "execution_count": 86,
     "metadata": {},
     "output_type": "execute_result"
    }
   ],
   "source": [
    "request_url"
   ]
  },
  {
   "cell_type": "code",
   "execution_count": 87,
   "metadata": {},
   "outputs": [
    {
     "data": {
      "text/plain": [
       "b'{\\n\\t\"data\": {\\n\\t\\t\"1\": {\\n\\t\\t\\t\"id\": 1,\\n\\t\\t\\t\"name\": \"Bitcoin\",\\n\\t\\t\\t\"symbol\": \"BTC\",\\n\\t\\t\\t\"website_slug\": \"bitcoin\",\\n\\t\\t\\t\"rank\": 1,\\n\\t\\t\\t\"circulating_supply\": 19018312,\\n\\t\\t\\t\"total_supply\": 19018312,\\n\\t\\t\\t\"max_supply\": 21000000,\\n\\t\\t\\t\"quotes\": {\\n\\t\\t\\t\\t\"USD\": {\\n\\t\\t\\t\\t\\t\"price\": 40740.0000000000000000,\\n\\t\\t\\t\\t\\t\"volume_24h\": 30209369394,\\n\\t\\t\\t\\t\\t\"market_cap\": 774702382079,\\n\\t\\t\\t\\t\\t\"percentage_change_1h\": -0.0048887547660628,\\n\\t\\t\\t\\t\\t\"percentage_change_24h\": -1.8934451033512100,\\n\\t\\t\\t\\t\\t\"percentage_change_7d\": -1.1300432160484400,\\n\\t\\t\\t\\t\\t\"percent_change_1h\": -0.0048887547660628,\\n\\t\\t\\t\\t\\t\"percent_change_24h\": -1.8934451033512100,\\n\\t\\t\\t\\t\\t\"percent_change_7d\": -1.1300432160484400\\n\\t\\t\\t\\t}\\n\\t\\t\\t},\\n\\t\\t\\t\"last_updated\": 1650579192\\n\\t\\t}\\n\\t},\\n\\t\"metadata\": {\\n\\t\\t\"timestamp\": 1650579192,\\n\\t\\t\"num_cryptocurrencies\": 3106,\\n\\t\\t\"error\": null\\n\\t}\\n}'"
      ]
     },
     "execution_count": 87,
     "metadata": {},
     "output_type": "execute_result"
    }
   ],
   "source": [
    "response_data.content"
   ]
  },
  {
   "cell_type": "code",
   "execution_count": 88,
   "metadata": {},
   "outputs": [],
   "source": [
    "alpaca_api_key=os.getenv('ALPACA_API_KEY')"
   ]
  },
  {
   "cell_type": "code",
   "execution_count": 89,
   "metadata": {},
   "outputs": [],
   "source": [
    "alpaca_secret_key=os.getenv('ALPACA_SECRET_KEY')"
   ]
  },
  {
   "cell_type": "code",
   "execution_count": null,
   "metadata": {},
   "outputs": [],
   "source": []
  },
  {
   "cell_type": "code",
   "execution_count": 91,
   "metadata": {},
   "outputs": [],
   "source": [
    "my_btc = 1.2\n",
    "my_eth = 5.3"
   ]
  },
  {
   "cell_type": "code",
   "execution_count": 92,
   "metadata": {},
   "outputs": [],
   "source": [
    "# Crypto API URLs\n",
    "btc_url = \"https://api.alternative.me/v2/ticker/Bitcoin/?convert=CAD\"\n",
    "eth_url = \"https://api.alternative.me/v2/ticker/Ethereum/?convert=CAD\""
   ]
  },
  {
   "cell_type": "code",
   "execution_count": 93,
   "metadata": {},
   "outputs": [
    {
     "name": "stdout",
     "output_type": "stream",
     "text": [
      "{\n",
      "    \"data\": {\n",
      "        \"1\": {\n",
      "            \"id\": 1,\n",
      "            \"name\": \"Bitcoin\",\n",
      "            \"symbol\": \"BTC\",\n",
      "            \"website_slug\": \"bitcoin\",\n",
      "            \"rank\": 1,\n",
      "            \"circulating_supply\": 19018312,\n",
      "            \"total_supply\": 19018312,\n",
      "            \"max_supply\": 21000000,\n",
      "            \"quotes\": {\n",
      "                \"USD\": {\n",
      "                    \"price\": 40740.0,\n",
      "                    \"volume_24h\": 30209369394,\n",
      "                    \"market_cap\": 774702382079,\n",
      "                    \"percentage_change_1h\": -0.0048887547660628,\n",
      "                    \"percentage_change_24h\": -1.89344510335121,\n",
      "                    \"percentage_change_7d\": -1.13004321604844,\n",
      "                    \"percent_change_1h\": -0.0048887547660628,\n",
      "                    \"percent_change_24h\": -1.89344510335121,\n",
      "                    \"percent_change_7d\": -1.13004321604844\n",
      "                },\n",
      "                \"CAD\": {\n",
      "                    \"price\": 51263.142,\n",
      "                    \"volume_24h\": 38012449508.4702,\n",
      "                    \"market_cap\": 974808007370.006,\n",
      "                    \"percent_change_1h\": -0.0048887547660628,\n",
      "                    \"percent_change_24h\": -1.89344510335121,\n",
      "                    \"percent_change_7d\": -1.13004321604844\n",
      "                }\n",
      "            },\n",
      "            \"last_updated\": 1650579192\n",
      "        }\n",
      "    },\n",
      "    \"metadata\": {\n",
      "        \"timestamp\": 1650579192,\n",
      "        \"num_cryptocurrencies\": 3106,\n",
      "        \"error\": null\n",
      "    }\n",
      "}\n",
      "{\n",
      "    \"data\": {\n",
      "        \"1027\": {\n",
      "            \"id\": 1027,\n",
      "            \"name\": \"Ethereum\",\n",
      "            \"symbol\": \"ETH\",\n",
      "            \"website_slug\": \"ethereum\",\n",
      "            \"rank\": 2,\n",
      "            \"circulating_supply\": 120474001,\n",
      "            \"total_supply\": 120474001,\n",
      "            \"max_supply\": 0,\n",
      "            \"quotes\": {\n",
      "                \"USD\": {\n",
      "                    \"price\": 3005.54,\n",
      "                    \"volume_24h\": 19542847839,\n",
      "                    \"market_cap\": 361707266653,\n",
      "                    \"percentage_change_1h\": 0.0137167338382807,\n",
      "                    \"percentage_change_24h\": -2.57962077367893,\n",
      "                    \"percentage_change_7d\": -3.71193202204696,\n",
      "                    \"percent_change_1h\": 0.0137167338382807,\n",
      "                    \"percent_change_24h\": -2.57962077367893,\n",
      "                    \"percent_change_7d\": -3.71193202204696\n",
      "                },\n",
      "                \"CAD\": {\n",
      "                    \"price\": 3781.870982,\n",
      "                    \"volume_24h\": 24590765435.8137,\n",
      "                    \"market_cap\": 455136253629.47,\n",
      "                    \"percent_change_1h\": 0.0137167338382807,\n",
      "                    \"percent_change_24h\": -2.57962077367893,\n",
      "                    \"percent_change_7d\": -3.71193202204696\n",
      "                }\n",
      "            },\n",
      "            \"last_updated\": 1650579294\n",
      "        }\n",
      "    },\n",
      "    \"metadata\": {\n",
      "        \"timestamp\": 1650579294,\n",
      "        \"num_cryptocurrencies\": 3106,\n",
      "        \"error\": null\n",
      "    }\n",
      "}\n"
     ]
    }
   ],
   "source": [
    "response_data_btc = requests.get(btc_url)\n",
    "response_data_btc\n",
    "response_content_btc = response_data_btc.content\n",
    "response_content_btc\n",
    "data_btc = response_data_btc.json()\n",
    "import json\n",
    "print(json.dumps(data_btc, indent=4))\n",
    "response_data_eth = requests.get(eth_url)\n",
    "response_content_eth = response_data_eth.content\n",
    "data_eth = response_data_eth.json()\n",
    "import json\n",
    "print(json.dumps(data_eth, indent=4))"
   ]
  },
  {
   "cell_type": "code",
   "execution_count": 94,
   "metadata": {},
   "outputs": [
    {
     "name": "stdout",
     "output_type": "stream",
     "text": [
      "The current value of your 1.2 BTC is $61515.77\n",
      "The current value of your 5.3 ETH is $20043.92\n"
     ]
    }
   ],
   "source": [
    "# Fetch current BTC price\n",
    "btc_value = data_btc[\"data\"][\"1\"][\"quotes\"][\"CAD\"][\"price\"]\n",
    "my_btc_value = my_btc * btc_value\n",
    "# Fetch current ETH price\n",
    "eth_value = data_eth[\"data\"][\"1027\"][\"quotes\"][\"CAD\"][\"price\"]\n",
    "my_eth_value = my_eth * eth_value\n",
    "# Compute current value of my crpto\n",
    "# Print current crypto wallet balance\n",
    "print(f\"The current value of your {my_btc} BTC is ${my_btc_value:0.2f}\")\n",
    "print(f\"The current value of your {my_eth} ETH is ${my_eth_value:0.2f}\")"
   ]
  },
  {
   "cell_type": "markdown",
   "metadata": {},
   "source": [
    "### Collect Investments Data Using Alpaca: `SPY` (stocks) and `AGG` (bonds)"
   ]
  },
  {
   "cell_type": "code",
   "execution_count": 95,
   "metadata": {},
   "outputs": [],
   "source": [
    "# Set current amount of shares\n",
    "my_agg = 200\n",
    "my_spy = 50"
   ]
  },
  {
   "cell_type": "code",
   "execution_count": 1,
   "metadata": {},
   "outputs": [
    {
     "ename": "NameError",
     "evalue": "name 'os' is not defined",
     "output_type": "error",
     "traceback": [
      "\u001b[0;31m---------------------------------------------------------------------------\u001b[0m",
      "\u001b[0;31mNameError\u001b[0m                                 Traceback (most recent call last)",
      "Input \u001b[0;32mIn [1]\u001b[0m, in \u001b[0;36m<cell line: 2>\u001b[0;34m()\u001b[0m\n\u001b[1;32m      1\u001b[0m \u001b[38;5;66;03m# Set Alpaca API key and secret\u001b[39;00m\n\u001b[0;32m----> 2\u001b[0m alpaca_api_key\u001b[38;5;241m=\u001b[39m\u001b[43mos\u001b[49m\u001b[38;5;241m.\u001b[39mgetenv(\u001b[38;5;124m'\u001b[39m\u001b[38;5;124mALPACA_API_KEY\u001b[39m\u001b[38;5;124m'\u001b[39m)\n\u001b[1;32m      3\u001b[0m alpaca_secret_key\u001b[38;5;241m=\u001b[39mos\u001b[38;5;241m.\u001b[39mgetenv(\u001b[38;5;124m'\u001b[39m\u001b[38;5;124mALPACA_SECRET_KEY\u001b[39m\u001b[38;5;124m'\u001b[39m)\n",
      "\u001b[0;31mNameError\u001b[0m: name 'os' is not defined"
     ]
    }
   ],
   "source": [
    "# Set Alpaca API key and secret\n",
    "alpaca_api_key=os.getenv('ALPACA_API_KEY')\n",
    "alpaca_secret_key=os.getenv('ALPACA_SECRET_KEY')\n"
   ]
  },
  {
   "cell_type": "code",
   "execution_count": null,
   "metadata": {},
   "outputs": [],
   "source": []
  },
  {
   "cell_type": "code",
   "execution_count": null,
   "metadata": {},
   "outputs": [],
   "source": []
  },
  {
   "cell_type": "code",
   "execution_count": 99,
   "metadata": {},
   "outputs": [],
   "source": [
    "# Create the Alpaca API object\n",
    "alpaca=tradeapi.REST(alpaca_api_key, alpaca_secret_key, api_version='v2')"
   ]
  },
  {
   "cell_type": "code",
   "execution_count": 100,
   "metadata": {},
   "outputs": [],
   "source": [
    "from datetime import datetime\n",
    "# Format current date as ISO format\n",
    "today = datetime.now()"
   ]
  },
  {
   "cell_type": "code",
   "execution_count": 101,
   "metadata": {},
   "outputs": [],
   "source": [
    "start = pd.Timestamp(\"2016-03-30\", tz=\"America/Toronto\").isoformat()\n",
    "end = pd.Timestamp(\"2022-03-30\", tz=\"America/Toronto\").isoformat()"
   ]
  },
  {
   "cell_type": "code",
   "execution_count": null,
   "metadata": {},
   "outputs": [],
   "source": []
  },
  {
   "cell_type": "code",
   "execution_count": 102,
   "metadata": {},
   "outputs": [],
   "source": [
    "# Set the tickers\n",
    "tickers = [\"AGG\", \"SPY\"]\n",
    "# Set timeframe to '1D' for Alpaca API\n",
    "timeframe = \"1D\"\n",
    "from alpaca_trade_api.rest import REST, TimeFrame"
   ]
  },
  {
   "cell_type": "code",
   "execution_count": 103,
   "metadata": {},
   "outputs": [],
   "source": [
    "# alpaca.get_bars(tickers, timeframe, start = today, end = today).df\n",
    "# Get current closing prices for SPY and AGG\n",
    "df_portfolio_year = alpaca.get_bars(tickers, TimeFrame.Day, \"2022-03-23\", \"2022-03-23\", adjustment='raw').df"
   ]
  },
  {
   "cell_type": "code",
   "execution_count": 104,
   "metadata": {},
   "outputs": [],
   "source": [
    "#df_portfolio_year = api.get_bars(tickers, timeframe, start = start, limit = 1000).df"
   ]
  },
  {
   "cell_type": "code",
   "execution_count": null,
   "metadata": {},
   "outputs": [],
   "source": []
  },
  {
   "cell_type": "code",
   "execution_count": 105,
   "metadata": {},
   "outputs": [
    {
     "data": {
      "text/html": [
       "<div>\n",
       "<style scoped>\n",
       "    .dataframe tbody tr th:only-of-type {\n",
       "        vertical-align: middle;\n",
       "    }\n",
       "\n",
       "    .dataframe tbody tr th {\n",
       "        vertical-align: top;\n",
       "    }\n",
       "\n",
       "    .dataframe thead th {\n",
       "        text-align: right;\n",
       "    }\n",
       "</style>\n",
       "<table border=\"1\" class=\"dataframe\">\n",
       "  <thead>\n",
       "    <tr style=\"text-align: right;\">\n",
       "      <th></th>\n",
       "      <th>open</th>\n",
       "      <th>high</th>\n",
       "      <th>low</th>\n",
       "      <th>close</th>\n",
       "      <th>volume</th>\n",
       "      <th>trade_count</th>\n",
       "      <th>vwap</th>\n",
       "      <th>symbol</th>\n",
       "    </tr>\n",
       "    <tr>\n",
       "      <th>timestamp</th>\n",
       "      <th></th>\n",
       "      <th></th>\n",
       "      <th></th>\n",
       "      <th></th>\n",
       "      <th></th>\n",
       "      <th></th>\n",
       "      <th></th>\n",
       "      <th></th>\n",
       "    </tr>\n",
       "  </thead>\n",
       "  <tbody>\n",
       "    <tr>\n",
       "      <th>2022-03-23 04:00:00+00:00</th>\n",
       "      <td>106.96</td>\n",
       "      <td>107.21</td>\n",
       "      <td>106.7105</td>\n",
       "      <td>107.19</td>\n",
       "      <td>8567200</td>\n",
       "      <td>27348</td>\n",
       "      <td>106.991875</td>\n",
       "      <td>AGG</td>\n",
       "    </tr>\n",
       "    <tr>\n",
       "      <th>2022-03-23 04:00:00+00:00</th>\n",
       "      <td>446.90</td>\n",
       "      <td>448.49</td>\n",
       "      <td>443.7100</td>\n",
       "      <td>443.80</td>\n",
       "      <td>77982935</td>\n",
       "      <td>627281</td>\n",
       "      <td>446.058683</td>\n",
       "      <td>SPY</td>\n",
       "    </tr>\n",
       "  </tbody>\n",
       "</table>\n",
       "</div>"
      ],
      "text/plain": [
       "                             open    high       low   close    volume  \\\n",
       "timestamp                                                               \n",
       "2022-03-23 04:00:00+00:00  106.96  107.21  106.7105  107.19   8567200   \n",
       "2022-03-23 04:00:00+00:00  446.90  448.49  443.7100  443.80  77982935   \n",
       "\n",
       "                           trade_count        vwap symbol  \n",
       "timestamp                                                  \n",
       "2022-03-23 04:00:00+00:00        27348  106.991875    AGG  \n",
       "2022-03-23 04:00:00+00:00       627281  446.058683    SPY  "
      ]
     },
     "execution_count": 105,
     "metadata": {},
     "output_type": "execute_result"
    }
   ],
   "source": [
    "df_portfolio_year.head()"
   ]
  },
  {
   "cell_type": "code",
   "execution_count": 116,
   "metadata": {},
   "outputs": [
    {
     "name": "stdout",
     "output_type": "stream",
     "text": [
      "107.19 443.8\n"
     ]
    }
   ],
   "source": [
    "\n",
    "#1 - slice the df by symbol\n",
    "agg_close_price = float(df_portfolio_year[df_portfolio_year['symbol'] == \"AGG\"]['close'])\n",
    "spy_close_price = float(df_portfolio_year[df_portfolio_year['symbol'] == \"SPY\"]['close'])\n",
    "\n",
    "#2 - drop the symbol column\n",
    "# agg = agg_df.drop('symbol', axis=1)\n",
    "# spy = spy_df.drop('symbol', axis=1)\n",
    "\n",
    "# agg_close_price_test = float(agg['close'])\n",
    "# spy_close_price_test = float(spy['close'])\n",
    "print (agg_df, spy_df)"
   ]
  },
  {
   "cell_type": "code",
   "execution_count": 115,
   "metadata": {},
   "outputs": [
    {
     "ename": "KeyError",
     "evalue": "'AGG'",
     "output_type": "error",
     "traceback": [
      "\u001b[0;31m---------------------------------------------------------------------------\u001b[0m",
      "\u001b[0;31mKeyError\u001b[0m                                  Traceback (most recent call last)",
      "\u001b[0;32m~/opt/anaconda3/envs/alpacaenv/lib/python3.7/site-packages/pandas/core/indexes/base.py\u001b[0m in \u001b[0;36mget_loc\u001b[0;34m(self, key, method, tolerance)\u001b[0m\n\u001b[1;32m   3360\u001b[0m             \u001b[0;32mtry\u001b[0m\u001b[0;34m:\u001b[0m\u001b[0;34m\u001b[0m\u001b[0;34m\u001b[0m\u001b[0m\n\u001b[0;32m-> 3361\u001b[0;31m                 \u001b[0;32mreturn\u001b[0m \u001b[0mself\u001b[0m\u001b[0;34m.\u001b[0m\u001b[0m_engine\u001b[0m\u001b[0;34m.\u001b[0m\u001b[0mget_loc\u001b[0m\u001b[0;34m(\u001b[0m\u001b[0mcasted_key\u001b[0m\u001b[0;34m)\u001b[0m\u001b[0;34m\u001b[0m\u001b[0;34m\u001b[0m\u001b[0m\n\u001b[0m\u001b[1;32m   3362\u001b[0m             \u001b[0;32mexcept\u001b[0m \u001b[0mKeyError\u001b[0m \u001b[0;32mas\u001b[0m \u001b[0merr\u001b[0m\u001b[0;34m:\u001b[0m\u001b[0;34m\u001b[0m\u001b[0;34m\u001b[0m\u001b[0m\n",
      "\u001b[0;32m~/opt/anaconda3/envs/alpacaenv/lib/python3.7/site-packages/pandas/_libs/index.pyx\u001b[0m in \u001b[0;36mpandas._libs.index.IndexEngine.get_loc\u001b[0;34m()\u001b[0m\n",
      "\u001b[0;32m~/opt/anaconda3/envs/alpacaenv/lib/python3.7/site-packages/pandas/_libs/index.pyx\u001b[0m in \u001b[0;36mpandas._libs.index.IndexEngine.get_loc\u001b[0;34m()\u001b[0m\n",
      "\u001b[0;32mpandas/_libs/hashtable_class_helper.pxi\u001b[0m in \u001b[0;36mpandas._libs.hashtable.PyObjectHashTable.get_item\u001b[0;34m()\u001b[0m\n",
      "\u001b[0;32mpandas/_libs/hashtable_class_helper.pxi\u001b[0m in \u001b[0;36mpandas._libs.hashtable.PyObjectHashTable.get_item\u001b[0;34m()\u001b[0m\n",
      "\u001b[0;31mKeyError\u001b[0m: 'AGG'",
      "\nThe above exception was the direct cause of the following exception:\n",
      "\u001b[0;31mKeyError\u001b[0m                                  Traceback (most recent call last)",
      "\u001b[0;32m/var/folders/1z/zl3xctrs405bvlcjxg8l94000000gn/T/ipykernel_5922/1463040220.py\u001b[0m in \u001b[0;36m<module>\u001b[0;34m\u001b[0m\n\u001b[1;32m      1\u001b[0m \u001b[0;31m# Pick AGG and SPY close prices\u001b[0m\u001b[0;34m\u001b[0m\u001b[0;34m\u001b[0m\u001b[0;34m\u001b[0m\u001b[0m\n\u001b[0;32m----> 2\u001b[0;31m \u001b[0magg_df\u001b[0m \u001b[0;34m=\u001b[0m \u001b[0mfloat\u001b[0m\u001b[0;34m(\u001b[0m\u001b[0mdf_portfolio_year\u001b[0m\u001b[0;34m[\u001b[0m\u001b[0;34m\"AGG\"\u001b[0m\u001b[0;34m]\u001b[0m\u001b[0;34m[\u001b[0m\u001b[0mclose\u001b[0m\u001b[0;34m]\u001b[0m\u001b[0;34m)\u001b[0m\u001b[0;34m\u001b[0m\u001b[0;34m\u001b[0m\u001b[0m\n\u001b[0m\u001b[1;32m      3\u001b[0m \u001b[0mspy_df\u001b[0m \u001b[0;34m=\u001b[0m \u001b[0mfloat\u001b[0m\u001b[0;34m(\u001b[0m\u001b[0mdf_portfolio_year\u001b[0m\u001b[0;34m[\u001b[0m\u001b[0;34m\"SPY\"\u001b[0m\u001b[0;34m]\u001b[0m\u001b[0;34m[\u001b[0m\u001b[0mclose\u001b[0m\u001b[0;34m]\u001b[0m\u001b[0;34m)\u001b[0m\u001b[0;34m\u001b[0m\u001b[0;34m\u001b[0m\u001b[0m\n",
      "\u001b[0;32m~/opt/anaconda3/envs/alpacaenv/lib/python3.7/site-packages/pandas/core/frame.py\u001b[0m in \u001b[0;36m__getitem__\u001b[0;34m(self, key)\u001b[0m\n\u001b[1;32m   3456\u001b[0m             \u001b[0;32mif\u001b[0m \u001b[0mself\u001b[0m\u001b[0;34m.\u001b[0m\u001b[0mcolumns\u001b[0m\u001b[0;34m.\u001b[0m\u001b[0mnlevels\u001b[0m \u001b[0;34m>\u001b[0m \u001b[0;36m1\u001b[0m\u001b[0;34m:\u001b[0m\u001b[0;34m\u001b[0m\u001b[0;34m\u001b[0m\u001b[0m\n\u001b[1;32m   3457\u001b[0m                 \u001b[0;32mreturn\u001b[0m \u001b[0mself\u001b[0m\u001b[0;34m.\u001b[0m\u001b[0m_getitem_multilevel\u001b[0m\u001b[0;34m(\u001b[0m\u001b[0mkey\u001b[0m\u001b[0;34m)\u001b[0m\u001b[0;34m\u001b[0m\u001b[0;34m\u001b[0m\u001b[0m\n\u001b[0;32m-> 3458\u001b[0;31m             \u001b[0mindexer\u001b[0m \u001b[0;34m=\u001b[0m \u001b[0mself\u001b[0m\u001b[0;34m.\u001b[0m\u001b[0mcolumns\u001b[0m\u001b[0;34m.\u001b[0m\u001b[0mget_loc\u001b[0m\u001b[0;34m(\u001b[0m\u001b[0mkey\u001b[0m\u001b[0;34m)\u001b[0m\u001b[0;34m\u001b[0m\u001b[0;34m\u001b[0m\u001b[0m\n\u001b[0m\u001b[1;32m   3459\u001b[0m             \u001b[0;32mif\u001b[0m \u001b[0mis_integer\u001b[0m\u001b[0;34m(\u001b[0m\u001b[0mindexer\u001b[0m\u001b[0;34m)\u001b[0m\u001b[0;34m:\u001b[0m\u001b[0;34m\u001b[0m\u001b[0;34m\u001b[0m\u001b[0m\n\u001b[1;32m   3460\u001b[0m                 \u001b[0mindexer\u001b[0m \u001b[0;34m=\u001b[0m \u001b[0;34m[\u001b[0m\u001b[0mindexer\u001b[0m\u001b[0;34m]\u001b[0m\u001b[0;34m\u001b[0m\u001b[0;34m\u001b[0m\u001b[0m\n",
      "\u001b[0;32m~/opt/anaconda3/envs/alpacaenv/lib/python3.7/site-packages/pandas/core/indexes/base.py\u001b[0m in \u001b[0;36mget_loc\u001b[0;34m(self, key, method, tolerance)\u001b[0m\n\u001b[1;32m   3361\u001b[0m                 \u001b[0;32mreturn\u001b[0m \u001b[0mself\u001b[0m\u001b[0;34m.\u001b[0m\u001b[0m_engine\u001b[0m\u001b[0;34m.\u001b[0m\u001b[0mget_loc\u001b[0m\u001b[0;34m(\u001b[0m\u001b[0mcasted_key\u001b[0m\u001b[0;34m)\u001b[0m\u001b[0;34m\u001b[0m\u001b[0;34m\u001b[0m\u001b[0m\n\u001b[1;32m   3362\u001b[0m             \u001b[0;32mexcept\u001b[0m \u001b[0mKeyError\u001b[0m \u001b[0;32mas\u001b[0m \u001b[0merr\u001b[0m\u001b[0;34m:\u001b[0m\u001b[0;34m\u001b[0m\u001b[0;34m\u001b[0m\u001b[0m\n\u001b[0;32m-> 3363\u001b[0;31m                 \u001b[0;32mraise\u001b[0m \u001b[0mKeyError\u001b[0m\u001b[0;34m(\u001b[0m\u001b[0mkey\u001b[0m\u001b[0;34m)\u001b[0m \u001b[0;32mfrom\u001b[0m \u001b[0merr\u001b[0m\u001b[0;34m\u001b[0m\u001b[0;34m\u001b[0m\u001b[0m\n\u001b[0m\u001b[1;32m   3364\u001b[0m \u001b[0;34m\u001b[0m\u001b[0m\n\u001b[1;32m   3365\u001b[0m         \u001b[0;32mif\u001b[0m \u001b[0mis_scalar\u001b[0m\u001b[0;34m(\u001b[0m\u001b[0mkey\u001b[0m\u001b[0;34m)\u001b[0m \u001b[0;32mand\u001b[0m \u001b[0misna\u001b[0m\u001b[0;34m(\u001b[0m\u001b[0mkey\u001b[0m\u001b[0;34m)\u001b[0m \u001b[0;32mand\u001b[0m \u001b[0;32mnot\u001b[0m \u001b[0mself\u001b[0m\u001b[0;34m.\u001b[0m\u001b[0mhasnans\u001b[0m\u001b[0;34m:\u001b[0m\u001b[0;34m\u001b[0m\u001b[0;34m\u001b[0m\u001b[0m\n",
      "\u001b[0;31mKeyError\u001b[0m: 'AGG'"
     ]
    }
   ],
   "source": [
    "# Pick AGG and SPY close prices\n",
    "#agg_df = float(df_portfolio_year[\"AGG\"][close])\n",
    "#spy_df = float(df_portfolio_year[\"SPY\"][close])"
   ]
  },
  {
   "cell_type": "code",
   "execution_count": 117,
   "metadata": {},
   "outputs": [
    {
     "name": "stdout",
     "output_type": "stream",
     "text": [
      "Current AGG closing price: $107.19\n",
      "Current SPY closing price: $443.8\n"
     ]
    }
   ],
   "source": [
    "# Print AGG and SPY close prices\n",
    "print(f\"Current AGG closing price: ${agg_close_price}\")\n",
    "print(f\"Current SPY closing price: ${spy_close_price}\")"
   ]
  },
  {
   "cell_type": "code",
   "execution_count": null,
   "metadata": {},
   "outputs": [],
   "source": []
  },
  {
   "cell_type": "code",
   "execution_count": 120,
   "metadata": {},
   "outputs": [
    {
     "name": "stdout",
     "output_type": "stream",
     "text": [
      "The current value of your 50 SPY shares is $22190.00\n",
      "The current value of your 200 AGG shares is $21438.00\n"
     ]
    }
   ],
   "source": [
    "# Print current value of shares\n",
    "print(f\"The current value of your {my_spy} SPY shares is ${my_spy_value:0.2f}\")\n",
    "print(f\"The current value of your {my_agg} AGG shares is ${my_agg_value:0.2f}\")"
   ]
  },
  {
   "cell_type": "code",
   "execution_count": 119,
   "metadata": {},
   "outputs": [],
   "source": [
    "my_agg_value = agg_close_price * my_agg\n",
    "my_spy_value = spy_close_price * my_spy"
   ]
  },
  {
   "cell_type": "code",
   "execution_count": 126,
   "metadata": {},
   "outputs": [],
   "source": [
    "yearly=alpaca.get_bars(tickers, \"1Day\", \"2022-03-23\", \"2022-03-23\", adjustment='raw').df"
   ]
  },
  {
   "cell_type": "code",
   "execution_count": 127,
   "metadata": {},
   "outputs": [],
   "source": [
    "yearly.index=yearly.index.date"
   ]
  },
  {
   "cell_type": "code",
   "execution_count": 37,
   "metadata": {},
   "outputs": [
    {
     "data": {
      "text/html": [
       "<div>\n",
       "<style scoped>\n",
       "    .dataframe tbody tr th:only-of-type {\n",
       "        vertical-align: middle;\n",
       "    }\n",
       "\n",
       "    .dataframe tbody tr th {\n",
       "        vertical-align: top;\n",
       "    }\n",
       "\n",
       "    .dataframe thead th {\n",
       "        text-align: right;\n",
       "    }\n",
       "</style>\n",
       "<table border=\"1\" class=\"dataframe\">\n",
       "  <thead>\n",
       "    <tr style=\"text-align: right;\">\n",
       "      <th></th>\n",
       "      <th>open</th>\n",
       "      <th>high</th>\n",
       "      <th>low</th>\n",
       "      <th>close</th>\n",
       "      <th>volume</th>\n",
       "      <th>trade_count</th>\n",
       "      <th>vwap</th>\n",
       "      <th>symbol</th>\n",
       "    </tr>\n",
       "    <tr>\n",
       "      <th>timestamp</th>\n",
       "      <th></th>\n",
       "      <th></th>\n",
       "      <th></th>\n",
       "      <th></th>\n",
       "      <th></th>\n",
       "      <th></th>\n",
       "      <th></th>\n",
       "      <th></th>\n",
       "    </tr>\n",
       "  </thead>\n",
       "  <tbody>\n",
       "    <tr>\n",
       "      <th>2022-03-23 04:00:00+00:00</th>\n",
       "      <td>106.96</td>\n",
       "      <td>107.21</td>\n",
       "      <td>106.7105</td>\n",
       "      <td>107.19</td>\n",
       "      <td>8567200</td>\n",
       "      <td>27348</td>\n",
       "      <td>106.991875</td>\n",
       "      <td>AGG</td>\n",
       "    </tr>\n",
       "    <tr>\n",
       "      <th>2022-03-23 04:00:00+00:00</th>\n",
       "      <td>446.90</td>\n",
       "      <td>448.49</td>\n",
       "      <td>443.7100</td>\n",
       "      <td>443.80</td>\n",
       "      <td>77982935</td>\n",
       "      <td>627281</td>\n",
       "      <td>446.058683</td>\n",
       "      <td>SPY</td>\n",
       "    </tr>\n",
       "  </tbody>\n",
       "</table>\n",
       "</div>"
      ],
      "text/plain": [
       "                             open    high       low   close    volume  \\\n",
       "timestamp                                                               \n",
       "2022-03-23 04:00:00+00:00  106.96  107.21  106.7105  107.19   8567200   \n",
       "2022-03-23 04:00:00+00:00  446.90  448.49  443.7100  443.80  77982935   \n",
       "\n",
       "                           trade_count        vwap symbol  \n",
       "timestamp                                                  \n",
       "2022-03-23 04:00:00+00:00        27348  106.991875    AGG  \n",
       "2022-03-23 04:00:00+00:00       627281  446.058683    SPY  "
      ]
     },
     "execution_count": 37,
     "metadata": {},
     "output_type": "execute_result"
    }
   ],
   "source": [
    "df_portfolio_year"
   ]
  },
  {
   "cell_type": "code",
   "execution_count": 128,
   "metadata": {},
   "outputs": [
    {
     "data": {
      "text/html": [
       "<div>\n",
       "<style scoped>\n",
       "    .dataframe tbody tr th:only-of-type {\n",
       "        vertical-align: middle;\n",
       "    }\n",
       "\n",
       "    .dataframe tbody tr th {\n",
       "        vertical-align: top;\n",
       "    }\n",
       "\n",
       "    .dataframe thead th {\n",
       "        text-align: right;\n",
       "    }\n",
       "</style>\n",
       "<table border=\"1\" class=\"dataframe\">\n",
       "  <thead>\n",
       "    <tr style=\"text-align: right;\">\n",
       "      <th></th>\n",
       "      <th>close</th>\n",
       "      <th>symbol</th>\n",
       "    </tr>\n",
       "  </thead>\n",
       "  <tbody>\n",
       "    <tr>\n",
       "      <th>2022-03-23</th>\n",
       "      <td>107.19</td>\n",
       "      <td>AGG</td>\n",
       "    </tr>\n",
       "    <tr>\n",
       "      <th>2022-03-23</th>\n",
       "      <td>443.80</td>\n",
       "      <td>SPY</td>\n",
       "    </tr>\n",
       "  </tbody>\n",
       "</table>\n",
       "</div>"
      ],
      "text/plain": [
       "             close symbol\n",
       "2022-03-23  107.19    AGG\n",
       "2022-03-23  443.80    SPY"
      ]
     },
     "execution_count": 128,
     "metadata": {},
     "output_type": "execute_result"
    }
   ],
   "source": [
    "df_portfolio_year = df_portfolio_year[['close','symbol']]\n",
    "df_portfolio_year.index = df_portfolio_year.index.date\n",
    "df_portfolio_year"
   ]
  },
  {
   "cell_type": "code",
   "execution_count": null,
   "metadata": {},
   "outputs": [],
   "source": []
  },
  {
   "cell_type": "code",
   "execution_count": null,
   "metadata": {},
   "outputs": [],
   "source": []
  },
  {
   "cell_type": "code",
   "execution_count": null,
   "metadata": {},
   "outputs": [],
   "source": []
  },
  {
   "cell_type": "code",
   "execution_count": null,
   "metadata": {},
   "outputs": [],
   "source": []
  },
  {
   "cell_type": "code",
   "execution_count": null,
   "metadata": {},
   "outputs": [],
   "source": []
  },
  {
   "cell_type": "markdown",
   "metadata": {},
   "source": [
    "### Savings Health Analysis"
   ]
  },
  {
   "cell_type": "code",
   "execution_count": 129,
   "metadata": {},
   "outputs": [
    {
     "data": {
      "text/html": [
       "<div>\n",
       "<style scoped>\n",
       "    .dataframe tbody tr th:only-of-type {\n",
       "        vertical-align: middle;\n",
       "    }\n",
       "\n",
       "    .dataframe tbody tr th {\n",
       "        vertical-align: top;\n",
       "    }\n",
       "\n",
       "    .dataframe thead th {\n",
       "        text-align: right;\n",
       "    }\n",
       "</style>\n",
       "<table border=\"1\" class=\"dataframe\">\n",
       "  <thead>\n",
       "    <tr style=\"text-align: right;\">\n",
       "      <th></th>\n",
       "      <th>amount</th>\n",
       "    </tr>\n",
       "  </thead>\n",
       "  <tbody>\n",
       "    <tr>\n",
       "      <th>crypto</th>\n",
       "      <td>81559.686605</td>\n",
       "    </tr>\n",
       "    <tr>\n",
       "      <th>shares</th>\n",
       "      <td>43628.000000</td>\n",
       "    </tr>\n",
       "  </tbody>\n",
       "</table>\n",
       "</div>"
      ],
      "text/plain": [
       "              amount\n",
       "crypto  81559.686605\n",
       "shares  43628.000000"
      ]
     },
     "execution_count": 129,
     "metadata": {},
     "output_type": "execute_result"
    }
   ],
   "source": [
    "# Set monthly household income\n",
    "monthly_income = 12000\n",
    "total_crypto = my_btc_value + my_eth_value\n",
    "total_shares_value = my_agg_value + my_spy_value\n",
    "data = {'amount':[total_crypto, total_shares_value]} \n",
    "# Creates pandas DataFrame. \n",
    "df_savings = pd.DataFrame(data, index =['crypto', 'shares']) \n",
    "# print the data \n",
    "df_savings "
   ]
  },
  {
   "cell_type": "code",
   "execution_count": 132,
   "metadata": {},
   "outputs": [
    {
     "data": {
      "image/png": "[encoded data removed]",
      "text/plain": [
       "<Figure size 432x288 with 1 Axes>"
      ]
     },
     "metadata": {},
     "output_type": "display_data"
    }
   ],
   "source": [
    "df_savings.plot.pie(y=\"amount\", title=\"Composition of Personal Savings\");"
   ]
  },
  {
   "cell_type": "code",
   "execution_count": 133,
   "metadata": {},
   "outputs": [
    {
     "data": {
      "image/png": "[encoded data removed]",
      "text/plain": [
       "<Figure size 432x288 with 1 Axes>"
      ]
     },
     "metadata": {},
     "output_type": "display_data"
    }
   ],
   "source": [
    "df_savings.plot.pie(y=\"amount\", title=\"Composition of Personal Savings\");"
   ]
  },
  {
   "cell_type": "code",
   "execution_count": 134,
   "metadata": {},
   "outputs": [
    {
     "name": "stdout",
     "output_type": "stream",
     "text": [
      "Congratuations! You have enough money in this fund.\n"
     ]
    }
   ],
   "source": [
    "# Set ideal emergency fund\n",
    "emergency_fund = monthly_income * 3\n",
    "\n",
    "# Calculate total amount of savings\n",
    "total_savings = total_crypto + total_shares_value\n",
    "\n",
    "# Validate saving health\n",
    "if emergency_fund < total_savings:\n",
    "        print(\"Congratuations! You have enough money in this fund.\")\n",
    "elif emergency_fund == total_savings:\n",
    "        print(\"Congratulations on reaching your financial goal\")\n",
    "else:\n",
    "        print(f\"You are {emergency_fund - total_savings} dollars away from reaching the goal\")"
   ]
  },
  {
   "cell_type": "markdown",
   "metadata": {},
   "source": [
    "## Part 2 - Retirement Planning\n",
    "\n",
    "### Monte Carlo Simulation"
   ]
  },
  {
   "cell_type": "code",
   "execution_count": 135,
   "metadata": {},
   "outputs": [],
   "source": [
    "from MCForecastTools import MCSimulation"
   ]
  },
  {
   "cell_type": "code",
   "execution_count": 136,
   "metadata": {},
   "outputs": [],
   "source": [
    "# Set start and end dates of five years back from today.\n",
    "# Sample results may vary from the solution based on the time frame chosen\n",
    "start_date = pd.Timestamp('2016-03-30', tz='America/Toronto').isoformat()\n",
    "end_date = pd.Timestamp('2022-03-30', tz='America/Toronto').isoformat()"
   ]
  },
  {
   "cell_type": "code",
   "execution_count": 147,
   "metadata": {},
   "outputs": [],
   "source": [
    "# Get 5 years' worth of historical data for SPY and AGG\n",
    "tickers = [\"AGG\",\"SPY\"]\n",
    "df_stock_data = alpaca.get_bars(tickers, \"1Day\", '2021-03-30', '2022-03-30', adjustment='raw').df"
   ]
  },
  {
   "cell_type": "code",
   "execution_count": 166,
   "metadata": {},
   "outputs": [
    {
     "data": {
      "text/html": [
       "<div>\n",
       "<style scoped>\n",
       "    .dataframe tbody tr th:only-of-type {\n",
       "        vertical-align: middle;\n",
       "    }\n",
       "\n",
       "    .dataframe tbody tr th {\n",
       "        vertical-align: top;\n",
       "    }\n",
       "\n",
       "    .dataframe thead tr th {\n",
       "        text-align: left;\n",
       "    }\n",
       "</style>\n",
       "<table border=\"1\" class=\"dataframe\">\n",
       "  <thead>\n",
       "    <tr>\n",
       "      <th></th>\n",
       "      <th colspan=\"7\" halign=\"left\">AGG</th>\n",
       "      <th colspan=\"7\" halign=\"left\">SPY</th>\n",
       "    </tr>\n",
       "    <tr>\n",
       "      <th></th>\n",
       "      <th>open</th>\n",
       "      <th>high</th>\n",
       "      <th>low</th>\n",
       "      <th>close</th>\n",
       "      <th>volume</th>\n",
       "      <th>trade_count</th>\n",
       "      <th>vwap</th>\n",
       "      <th>open</th>\n",
       "      <th>high</th>\n",
       "      <th>low</th>\n",
       "      <th>close</th>\n",
       "      <th>volume</th>\n",
       "      <th>trade_count</th>\n",
       "      <th>vwap</th>\n",
       "    </tr>\n",
       "  </thead>\n",
       "  <tbody>\n",
       "    <tr>\n",
       "      <th>2021-03-30</th>\n",
       "      <td>113.64</td>\n",
       "      <td>113.8500</td>\n",
       "      <td>113.525</td>\n",
       "      <td>113.81</td>\n",
       "      <td>4996946</td>\n",
       "      <td>21629</td>\n",
       "      <td>113.725016</td>\n",
       "      <td>394.35</td>\n",
       "      <td>395.450</td>\n",
       "      <td>393.020</td>\n",
       "      <td>394.73</td>\n",
       "      <td>76263758</td>\n",
       "      <td>435225</td>\n",
       "      <td>394.453270</td>\n",
       "    </tr>\n",
       "    <tr>\n",
       "      <th>2021-03-31</th>\n",
       "      <td>113.84</td>\n",
       "      <td>113.9800</td>\n",
       "      <td>113.710</td>\n",
       "      <td>113.83</td>\n",
       "      <td>6309151</td>\n",
       "      <td>20046</td>\n",
       "      <td>113.851382</td>\n",
       "      <td>395.35</td>\n",
       "      <td>398.000</td>\n",
       "      <td>395.310</td>\n",
       "      <td>396.33</td>\n",
       "      <td>112826049</td>\n",
       "      <td>481278</td>\n",
       "      <td>396.340504</td>\n",
       "    </tr>\n",
       "    <tr>\n",
       "      <th>2021-04-01</th>\n",
       "      <td>113.93</td>\n",
       "      <td>114.0500</td>\n",
       "      <td>113.830</td>\n",
       "      <td>114.04</td>\n",
       "      <td>10766423</td>\n",
       "      <td>31622</td>\n",
       "      <td>113.979773</td>\n",
       "      <td>398.34</td>\n",
       "      <td>400.670</td>\n",
       "      <td>398.180</td>\n",
       "      <td>400.61</td>\n",
       "      <td>99157757</td>\n",
       "      <td>386557</td>\n",
       "      <td>398.274085</td>\n",
       "    </tr>\n",
       "    <tr>\n",
       "      <th>2021-04-05</th>\n",
       "      <td>113.84</td>\n",
       "      <td>113.8900</td>\n",
       "      <td>113.690</td>\n",
       "      <td>113.81</td>\n",
       "      <td>9229625</td>\n",
       "      <td>32639</td>\n",
       "      <td>113.804845</td>\n",
       "      <td>403.49</td>\n",
       "      <td>406.940</td>\n",
       "      <td>403.380</td>\n",
       "      <td>406.36</td>\n",
       "      <td>91242966</td>\n",
       "      <td>446985</td>\n",
       "      <td>404.939779</td>\n",
       "    </tr>\n",
       "    <tr>\n",
       "      <th>2021-04-06</th>\n",
       "      <td>113.98</td>\n",
       "      <td>114.2200</td>\n",
       "      <td>113.950</td>\n",
       "      <td>114.21</td>\n",
       "      <td>4859922</td>\n",
       "      <td>19800</td>\n",
       "      <td>114.112076</td>\n",
       "      <td>405.83</td>\n",
       "      <td>407.240</td>\n",
       "      <td>405.400</td>\n",
       "      <td>406.12</td>\n",
       "      <td>61766326</td>\n",
       "      <td>330698</td>\n",
       "      <td>406.378556</td>\n",
       "    </tr>\n",
       "    <tr>\n",
       "      <th>...</th>\n",
       "      <td>...</td>\n",
       "      <td>...</td>\n",
       "      <td>...</td>\n",
       "      <td>...</td>\n",
       "      <td>...</td>\n",
       "      <td>...</td>\n",
       "      <td>...</td>\n",
       "      <td>...</td>\n",
       "      <td>...</td>\n",
       "      <td>...</td>\n",
       "      <td>...</td>\n",
       "      <td>...</td>\n",
       "      <td>...</td>\n",
       "      <td>...</td>\n",
       "    </tr>\n",
       "    <tr>\n",
       "      <th>2022-03-24</th>\n",
       "      <td>106.72</td>\n",
       "      <td>107.0350</td>\n",
       "      <td>106.650</td>\n",
       "      <td>106.95</td>\n",
       "      <td>7378690</td>\n",
       "      <td>23320</td>\n",
       "      <td>106.879605</td>\n",
       "      <td>445.82</td>\n",
       "      <td>450.500</td>\n",
       "      <td>444.760</td>\n",
       "      <td>450.48</td>\n",
       "      <td>61411569</td>\n",
       "      <td>526865</td>\n",
       "      <td>447.609014</td>\n",
       "    </tr>\n",
       "    <tr>\n",
       "      <th>2022-03-25</th>\n",
       "      <td>106.65</td>\n",
       "      <td>106.6500</td>\n",
       "      <td>105.975</td>\n",
       "      <td>106.10</td>\n",
       "      <td>10295813</td>\n",
       "      <td>37569</td>\n",
       "      <td>106.190724</td>\n",
       "      <td>451.09</td>\n",
       "      <td>452.980</td>\n",
       "      <td>448.430</td>\n",
       "      <td>452.69</td>\n",
       "      <td>77199328</td>\n",
       "      <td>661033</td>\n",
       "      <td>451.047221</td>\n",
       "    </tr>\n",
       "    <tr>\n",
       "      <th>2022-03-28</th>\n",
       "      <td>106.25</td>\n",
       "      <td>106.5252</td>\n",
       "      <td>106.160</td>\n",
       "      <td>106.36</td>\n",
       "      <td>8540551</td>\n",
       "      <td>27246</td>\n",
       "      <td>106.295912</td>\n",
       "      <td>452.05</td>\n",
       "      <td>455.910</td>\n",
       "      <td>450.060</td>\n",
       "      <td>455.84</td>\n",
       "      <td>68744767</td>\n",
       "      <td>624225</td>\n",
       "      <td>453.296491</td>\n",
       "    </tr>\n",
       "    <tr>\n",
       "      <th>2022-03-29</th>\n",
       "      <td>106.61</td>\n",
       "      <td>106.8900</td>\n",
       "      <td>106.455</td>\n",
       "      <td>106.86</td>\n",
       "      <td>11396549</td>\n",
       "      <td>33651</td>\n",
       "      <td>106.734051</td>\n",
       "      <td>460.07</td>\n",
       "      <td>462.070</td>\n",
       "      <td>457.180</td>\n",
       "      <td>461.53</td>\n",
       "      <td>86682895</td>\n",
       "      <td>738526</td>\n",
       "      <td>459.632992</td>\n",
       "    </tr>\n",
       "    <tr>\n",
       "      <th>2022-03-30</th>\n",
       "      <td>106.60</td>\n",
       "      <td>107.1500</td>\n",
       "      <td>106.590</td>\n",
       "      <td>107.15</td>\n",
       "      <td>11544378</td>\n",
       "      <td>24975</td>\n",
       "      <td>107.007713</td>\n",
       "      <td>460.29</td>\n",
       "      <td>461.195</td>\n",
       "      <td>456.465</td>\n",
       "      <td>458.79</td>\n",
       "      <td>79668682</td>\n",
       "      <td>659199</td>\n",
       "      <td>459.158702</td>\n",
       "    </tr>\n",
       "  </tbody>\n",
       "</table>\n",
       "<p>254 rows × 14 columns</p>\n",
       "</div>"
      ],
      "text/plain": [
       "               AGG                                                   \\\n",
       "              open      high      low   close    volume trade_count   \n",
       "2021-03-30  113.64  113.8500  113.525  113.81   4996946       21629   \n",
       "2021-03-31  113.84  113.9800  113.710  113.83   6309151       20046   \n",
       "2021-04-01  113.93  114.0500  113.830  114.04  10766423       31622   \n",
       "2021-04-05  113.84  113.8900  113.690  113.81   9229625       32639   \n",
       "2021-04-06  113.98  114.2200  113.950  114.21   4859922       19800   \n",
       "...            ...       ...      ...     ...       ...         ...   \n",
       "2022-03-24  106.72  107.0350  106.650  106.95   7378690       23320   \n",
       "2022-03-25  106.65  106.6500  105.975  106.10  10295813       37569   \n",
       "2022-03-28  106.25  106.5252  106.160  106.36   8540551       27246   \n",
       "2022-03-29  106.61  106.8900  106.455  106.86  11396549       33651   \n",
       "2022-03-30  106.60  107.1500  106.590  107.15  11544378       24975   \n",
       "\n",
       "                           SPY                                       \\\n",
       "                  vwap    open     high      low   close     volume   \n",
       "2021-03-30  113.725016  394.35  395.450  393.020  394.73   76263758   \n",
       "2021-03-31  113.851382  395.35  398.000  395.310  396.33  112826049   \n",
       "2021-04-01  113.979773  398.34  400.670  398.180  400.61   99157757   \n",
       "2021-04-05  113.804845  403.49  406.940  403.380  406.36   91242966   \n",
       "2021-04-06  114.112076  405.83  407.240  405.400  406.12   61766326   \n",
       "...                ...     ...      ...      ...     ...        ...   \n",
       "2022-03-24  106.879605  445.82  450.500  444.760  450.48   61411569   \n",
       "2022-03-25  106.190724  451.09  452.980  448.430  452.69   77199328   \n",
       "2022-03-28  106.295912  452.05  455.910  450.060  455.84   68744767   \n",
       "2022-03-29  106.734051  460.07  462.070  457.180  461.53   86682895   \n",
       "2022-03-30  107.007713  460.29  461.195  456.465  458.79   79668682   \n",
       "\n",
       "                                    \n",
       "           trade_count        vwap  \n",
       "2021-03-30      435225  394.453270  \n",
       "2021-03-31      481278  396.340504  \n",
       "2021-04-01      386557  398.274085  \n",
       "2021-04-05      446985  404.939779  \n",
       "2021-04-06      330698  406.378556  \n",
       "...                ...         ...  \n",
       "2022-03-24      526865  447.609014  \n",
       "2022-03-25      661033  451.047221  \n",
       "2022-03-28      624225  453.296491  \n",
       "2022-03-29      738526  459.632992  \n",
       "2022-03-30      659199  459.158702  \n",
       "\n",
       "[254 rows x 14 columns]"
      ]
     },
     "execution_count": 166,
     "metadata": {},
     "output_type": "execute_result"
    }
   ],
   "source": [
    "agg_test = df_stock_data[df_stock_data['symbol']=='AGG'].drop('symbol', axis=1)\n",
    "spy_test = df_stock_data[df_stock_data['symbol']=='SPY'].drop('symbol', axis=1)\n",
    "\n",
    "df_test = pd.concat([agg_test, spy_test], axis=1, keys=tickers)\n",
    "df_test"
   ]
  },
  {
   "cell_type": "code",
   "execution_count": 172,
   "metadata": {},
   "outputs": [],
   "source": [
    "mc = MCSimulation(\n",
    "    portfolio_data = df_test\n",
    "    , weights = [.50,.50]\n",
    "    , num_simulation = 500\n",
    "    , num_trading_days = 252*6    \n",
    "    \n",
    ")"
   ]
  },
  {
   "cell_type": "code",
   "execution_count": 173,
   "metadata": {},
   "outputs": [
    {
     "data": {
      "text/html": [
       "<div>\n",
       "<style scoped>\n",
       "    .dataframe tbody tr th:only-of-type {\n",
       "        vertical-align: middle;\n",
       "    }\n",
       "\n",
       "    .dataframe tbody tr th {\n",
       "        vertical-align: top;\n",
       "    }\n",
       "\n",
       "    .dataframe thead tr th {\n",
       "        text-align: left;\n",
       "    }\n",
       "</style>\n",
       "<table border=\"1\" class=\"dataframe\">\n",
       "  <thead>\n",
       "    <tr>\n",
       "      <th></th>\n",
       "      <th colspan=\"8\" halign=\"left\">AGG</th>\n",
       "      <th colspan=\"8\" halign=\"left\">SPY</th>\n",
       "    </tr>\n",
       "    <tr>\n",
       "      <th></th>\n",
       "      <th>open</th>\n",
       "      <th>high</th>\n",
       "      <th>low</th>\n",
       "      <th>close</th>\n",
       "      <th>volume</th>\n",
       "      <th>trade_count</th>\n",
       "      <th>vwap</th>\n",
       "      <th>daily_return</th>\n",
       "      <th>open</th>\n",
       "      <th>high</th>\n",
       "      <th>low</th>\n",
       "      <th>close</th>\n",
       "      <th>volume</th>\n",
       "      <th>trade_count</th>\n",
       "      <th>vwap</th>\n",
       "      <th>daily_return</th>\n",
       "    </tr>\n",
       "  </thead>\n",
       "  <tbody>\n",
       "    <tr>\n",
       "      <th>2021-03-30</th>\n",
       "      <td>113.64</td>\n",
       "      <td>113.85</td>\n",
       "      <td>113.525</td>\n",
       "      <td>113.81</td>\n",
       "      <td>4996946</td>\n",
       "      <td>21629</td>\n",
       "      <td>113.725016</td>\n",
       "      <td>NaN</td>\n",
       "      <td>394.35</td>\n",
       "      <td>395.45</td>\n",
       "      <td>393.02</td>\n",
       "      <td>394.73</td>\n",
       "      <td>76263758</td>\n",
       "      <td>435225</td>\n",
       "      <td>394.453270</td>\n",
       "      <td>NaN</td>\n",
       "    </tr>\n",
       "    <tr>\n",
       "      <th>2021-03-31</th>\n",
       "      <td>113.84</td>\n",
       "      <td>113.98</td>\n",
       "      <td>113.710</td>\n",
       "      <td>113.83</td>\n",
       "      <td>6309151</td>\n",
       "      <td>20046</td>\n",
       "      <td>113.851382</td>\n",
       "      <td>0.000176</td>\n",
       "      <td>395.35</td>\n",
       "      <td>398.00</td>\n",
       "      <td>395.31</td>\n",
       "      <td>396.33</td>\n",
       "      <td>112826049</td>\n",
       "      <td>481278</td>\n",
       "      <td>396.340504</td>\n",
       "      <td>0.004053</td>\n",
       "    </tr>\n",
       "    <tr>\n",
       "      <th>2021-04-01</th>\n",
       "      <td>113.93</td>\n",
       "      <td>114.05</td>\n",
       "      <td>113.830</td>\n",
       "      <td>114.04</td>\n",
       "      <td>10766423</td>\n",
       "      <td>31622</td>\n",
       "      <td>113.979773</td>\n",
       "      <td>0.001845</td>\n",
       "      <td>398.34</td>\n",
       "      <td>400.67</td>\n",
       "      <td>398.18</td>\n",
       "      <td>400.61</td>\n",
       "      <td>99157757</td>\n",
       "      <td>386557</td>\n",
       "      <td>398.274085</td>\n",
       "      <td>0.010799</td>\n",
       "    </tr>\n",
       "    <tr>\n",
       "      <th>2021-04-05</th>\n",
       "      <td>113.84</td>\n",
       "      <td>113.89</td>\n",
       "      <td>113.690</td>\n",
       "      <td>113.81</td>\n",
       "      <td>9229625</td>\n",
       "      <td>32639</td>\n",
       "      <td>113.804845</td>\n",
       "      <td>-0.002017</td>\n",
       "      <td>403.49</td>\n",
       "      <td>406.94</td>\n",
       "      <td>403.38</td>\n",
       "      <td>406.36</td>\n",
       "      <td>91242966</td>\n",
       "      <td>446985</td>\n",
       "      <td>404.939779</td>\n",
       "      <td>0.014353</td>\n",
       "    </tr>\n",
       "    <tr>\n",
       "      <th>2021-04-06</th>\n",
       "      <td>113.98</td>\n",
       "      <td>114.22</td>\n",
       "      <td>113.950</td>\n",
       "      <td>114.21</td>\n",
       "      <td>4859922</td>\n",
       "      <td>19800</td>\n",
       "      <td>114.112076</td>\n",
       "      <td>0.003515</td>\n",
       "      <td>405.83</td>\n",
       "      <td>407.24</td>\n",
       "      <td>405.40</td>\n",
       "      <td>406.12</td>\n",
       "      <td>61766326</td>\n",
       "      <td>330698</td>\n",
       "      <td>406.378556</td>\n",
       "      <td>-0.000591</td>\n",
       "    </tr>\n",
       "  </tbody>\n",
       "</table>\n",
       "</div>"
      ],
      "text/plain": [
       "               AGG                                                             \\\n",
       "              open    high      low   close    volume trade_count        vwap   \n",
       "2021-03-30  113.64  113.85  113.525  113.81   4996946       21629  113.725016   \n",
       "2021-03-31  113.84  113.98  113.710  113.83   6309151       20046  113.851382   \n",
       "2021-04-01  113.93  114.05  113.830  114.04  10766423       31622  113.979773   \n",
       "2021-04-05  113.84  113.89  113.690  113.81   9229625       32639  113.804845   \n",
       "2021-04-06  113.98  114.22  113.950  114.21   4859922       19800  114.112076   \n",
       "\n",
       "                            SPY                                     \\\n",
       "           daily_return    open    high     low   close     volume   \n",
       "2021-03-30          NaN  394.35  395.45  393.02  394.73   76263758   \n",
       "2021-03-31     0.000176  395.35  398.00  395.31  396.33  112826049   \n",
       "2021-04-01     0.001845  398.34  400.67  398.18  400.61   99157757   \n",
       "2021-04-05    -0.002017  403.49  406.94  403.38  406.36   91242966   \n",
       "2021-04-06     0.003515  405.83  407.24  405.40  406.12   61766326   \n",
       "\n",
       "                                                 \n",
       "           trade_count        vwap daily_return  \n",
       "2021-03-30      435225  394.453270          NaN  \n",
       "2021-03-31      481278  396.340504     0.004053  \n",
       "2021-04-01      386557  398.274085     0.010799  \n",
       "2021-04-05      446985  404.939779     0.014353  \n",
       "2021-04-06      330698  406.378556    -0.000591  "
      ]
     },
     "execution_count": 173,
     "metadata": {},
     "output_type": "execute_result"
    }
   ],
   "source": [
    "mc.portfolio_data.head()"
   ]
  },
  {
   "cell_type": "code",
   "execution_count": 174,
   "metadata": {},
   "outputs": [
    {
     "name": "stdout",
     "output_type": "stream",
     "text": [
      "Running Monte Carlo simulation number 0.\n",
      "Running Monte Carlo simulation number 10.\n",
      "Running Monte Carlo simulation number 20.\n",
      "Running Monte Carlo simulation number 30.\n",
      "Running Monte Carlo simulation number 40.\n",
      "Running Monte Carlo simulation number 50.\n",
      "Running Monte Carlo simulation number 60.\n",
      "Running Monte Carlo simulation number 70.\n",
      "Running Monte Carlo simulation number 80.\n",
      "Running Monte Carlo simulation number 90.\n",
      "Running Monte Carlo simulation number 100.\n"
     ]
    },
    {
     "name": "stderr",
     "output_type": "stream",
     "text": [
      "/Users/emilianomendez/Financial Planning/MCForecastTools.py:117: PerformanceWarning: DataFrame is highly fragmented.  This is usually the result of calling `frame.insert` many times, which has poor performance.  Consider joining all columns at once using pd.concat(axis=1) instead.  To get a de-fragmented frame, use `newframe = frame.copy()`\n",
      "  portfolio_cumulative_returns[n] = (1 + sim_df.fillna(0)).cumprod()\n"
     ]
    },
    {
     "name": "stdout",
     "output_type": "stream",
     "text": [
      "Running Monte Carlo simulation number 110.\n",
      "Running Monte Carlo simulation number 120.\n",
      "Running Monte Carlo simulation number 130.\n",
      "Running Monte Carlo simulation number 140.\n",
      "Running Monte Carlo simulation number 150.\n",
      "Running Monte Carlo simulation number 160.\n",
      "Running Monte Carlo simulation number 170.\n",
      "Running Monte Carlo simulation number 180.\n",
      "Running Monte Carlo simulation number 190.\n",
      "Running Monte Carlo simulation number 200.\n",
      "Running Monte Carlo simulation number 210.\n",
      "Running Monte Carlo simulation number 220.\n",
      "Running Monte Carlo simulation number 230.\n",
      "Running Monte Carlo simulation number 240.\n",
      "Running Monte Carlo simulation number 250.\n",
      "Running Monte Carlo simulation number 260.\n",
      "Running Monte Carlo simulation number 270.\n",
      "Running Monte Carlo simulation number 280.\n",
      "Running Monte Carlo simulation number 290.\n",
      "Running Monte Carlo simulation number 300.\n",
      "Running Monte Carlo simulation number 310.\n",
      "Running Monte Carlo simulation number 320.\n",
      "Running Monte Carlo simulation number 330.\n",
      "Running Monte Carlo simulation number 340.\n",
      "Running Monte Carlo simulation number 350.\n",
      "Running Monte Carlo simulation number 360.\n",
      "Running Monte Carlo simulation number 370.\n",
      "Running Monte Carlo simulation number 380.\n",
      "Running Monte Carlo simulation number 390.\n",
      "Running Monte Carlo simulation number 400.\n",
      "Running Monte Carlo simulation number 410.\n",
      "Running Monte Carlo simulation number 420.\n",
      "Running Monte Carlo simulation number 430.\n",
      "Running Monte Carlo simulation number 440.\n",
      "Running Monte Carlo simulation number 450.\n",
      "Running Monte Carlo simulation number 460.\n",
      "Running Monte Carlo simulation number 470.\n",
      "Running Monte Carlo simulation number 480.\n",
      "Running Monte Carlo simulation number 490.\n"
     ]
    },
    {
     "data": {
      "text/html": [
       "<div>\n",
       "<style scoped>\n",
       "    .dataframe tbody tr th:only-of-type {\n",
       "        vertical-align: middle;\n",
       "    }\n",
       "\n",
       "    .dataframe tbody tr th {\n",
       "        vertical-align: top;\n",
       "    }\n",
       "\n",
       "    .dataframe thead th {\n",
       "        text-align: right;\n",
       "    }\n",
       "</style>\n",
       "<table border=\"1\" class=\"dataframe\">\n",
       "  <thead>\n",
       "    <tr style=\"text-align: right;\">\n",
       "      <th></th>\n",
       "      <th>0</th>\n",
       "      <th>1</th>\n",
       "      <th>2</th>\n",
       "      <th>3</th>\n",
       "      <th>4</th>\n",
       "      <th>5</th>\n",
       "      <th>6</th>\n",
       "      <th>7</th>\n",
       "      <th>8</th>\n",
       "      <th>9</th>\n",
       "      <th>...</th>\n",
       "      <th>490</th>\n",
       "      <th>491</th>\n",
       "      <th>492</th>\n",
       "      <th>493</th>\n",
       "      <th>494</th>\n",
       "      <th>495</th>\n",
       "      <th>496</th>\n",
       "      <th>497</th>\n",
       "      <th>498</th>\n",
       "      <th>499</th>\n",
       "    </tr>\n",
       "  </thead>\n",
       "  <tbody>\n",
       "    <tr>\n",
       "      <th>0</th>\n",
       "      <td>1.000000</td>\n",
       "      <td>1.000000</td>\n",
       "      <td>1.000000</td>\n",
       "      <td>1.000000</td>\n",
       "      <td>1.000000</td>\n",
       "      <td>1.000000</td>\n",
       "      <td>1.000000</td>\n",
       "      <td>1.000000</td>\n",
       "      <td>1.000000</td>\n",
       "      <td>1.000000</td>\n",
       "      <td>...</td>\n",
       "      <td>1.000000</td>\n",
       "      <td>1.000000</td>\n",
       "      <td>1.000000</td>\n",
       "      <td>1.000000</td>\n",
       "      <td>1.000000</td>\n",
       "      <td>1.000000</td>\n",
       "      <td>1.000000</td>\n",
       "      <td>1.000000</td>\n",
       "      <td>1.000000</td>\n",
       "      <td>1.000000</td>\n",
       "    </tr>\n",
       "    <tr>\n",
       "      <th>1</th>\n",
       "      <td>0.991158</td>\n",
       "      <td>1.006559</td>\n",
       "      <td>0.994310</td>\n",
       "      <td>0.995377</td>\n",
       "      <td>0.994142</td>\n",
       "      <td>0.999808</td>\n",
       "      <td>0.995571</td>\n",
       "      <td>0.994631</td>\n",
       "      <td>0.998533</td>\n",
       "      <td>0.993420</td>\n",
       "      <td>...</td>\n",
       "      <td>0.995564</td>\n",
       "      <td>0.991114</td>\n",
       "      <td>0.999766</td>\n",
       "      <td>1.002948</td>\n",
       "      <td>1.006110</td>\n",
       "      <td>1.004913</td>\n",
       "      <td>1.007169</td>\n",
       "      <td>0.999895</td>\n",
       "      <td>1.003624</td>\n",
       "      <td>1.003829</td>\n",
       "    </tr>\n",
       "    <tr>\n",
       "      <th>2</th>\n",
       "      <td>0.988266</td>\n",
       "      <td>1.002540</td>\n",
       "      <td>1.000665</td>\n",
       "      <td>1.001439</td>\n",
       "      <td>0.993708</td>\n",
       "      <td>0.997624</td>\n",
       "      <td>0.990782</td>\n",
       "      <td>1.001364</td>\n",
       "      <td>1.012592</td>\n",
       "      <td>0.999957</td>\n",
       "      <td>...</td>\n",
       "      <td>0.995999</td>\n",
       "      <td>0.988494</td>\n",
       "      <td>1.000421</td>\n",
       "      <td>0.993109</td>\n",
       "      <td>1.003902</td>\n",
       "      <td>1.013991</td>\n",
       "      <td>1.004220</td>\n",
       "      <td>0.990117</td>\n",
       "      <td>1.001223</td>\n",
       "      <td>1.001192</td>\n",
       "    </tr>\n",
       "    <tr>\n",
       "      <th>3</th>\n",
       "      <td>0.982464</td>\n",
       "      <td>1.005447</td>\n",
       "      <td>1.003038</td>\n",
       "      <td>1.003303</td>\n",
       "      <td>0.991000</td>\n",
       "      <td>1.004097</td>\n",
       "      <td>0.992422</td>\n",
       "      <td>0.994167</td>\n",
       "      <td>1.015513</td>\n",
       "      <td>1.001390</td>\n",
       "      <td>...</td>\n",
       "      <td>0.990253</td>\n",
       "      <td>0.992171</td>\n",
       "      <td>0.999140</td>\n",
       "      <td>0.991653</td>\n",
       "      <td>1.007700</td>\n",
       "      <td>1.017998</td>\n",
       "      <td>1.003666</td>\n",
       "      <td>0.988605</td>\n",
       "      <td>0.999546</td>\n",
       "      <td>0.995085</td>\n",
       "    </tr>\n",
       "    <tr>\n",
       "      <th>4</th>\n",
       "      <td>0.981298</td>\n",
       "      <td>1.004064</td>\n",
       "      <td>1.010784</td>\n",
       "      <td>1.003893</td>\n",
       "      <td>0.985303</td>\n",
       "      <td>1.005575</td>\n",
       "      <td>0.983813</td>\n",
       "      <td>0.994848</td>\n",
       "      <td>1.009856</td>\n",
       "      <td>1.007565</td>\n",
       "      <td>...</td>\n",
       "      <td>0.988179</td>\n",
       "      <td>0.997805</td>\n",
       "      <td>1.000828</td>\n",
       "      <td>0.990262</td>\n",
       "      <td>1.010052</td>\n",
       "      <td>1.017768</td>\n",
       "      <td>1.006022</td>\n",
       "      <td>1.001953</td>\n",
       "      <td>0.999710</td>\n",
       "      <td>0.992636</td>\n",
       "    </tr>\n",
       "    <tr>\n",
       "      <th>...</th>\n",
       "      <td>...</td>\n",
       "      <td>...</td>\n",
       "      <td>...</td>\n",
       "      <td>...</td>\n",
       "      <td>...</td>\n",
       "      <td>...</td>\n",
       "      <td>...</td>\n",
       "      <td>...</td>\n",
       "      <td>...</td>\n",
       "      <td>...</td>\n",
       "      <td>...</td>\n",
       "      <td>...</td>\n",
       "      <td>...</td>\n",
       "      <td>...</td>\n",
       "      <td>...</td>\n",
       "      <td>...</td>\n",
       "      <td>...</td>\n",
       "      <td>...</td>\n",
       "      <td>...</td>\n",
       "      <td>...</td>\n",
       "      <td>...</td>\n",
       "    </tr>\n",
       "    <tr>\n",
       "      <th>1508</th>\n",
       "      <td>1.574527</td>\n",
       "      <td>1.014411</td>\n",
       "      <td>1.184469</td>\n",
       "      <td>1.343323</td>\n",
       "      <td>1.723352</td>\n",
       "      <td>1.263266</td>\n",
       "      <td>0.986901</td>\n",
       "      <td>1.612868</td>\n",
       "      <td>1.566094</td>\n",
       "      <td>1.090794</td>\n",
       "      <td>...</td>\n",
       "      <td>1.440874</td>\n",
       "      <td>1.751677</td>\n",
       "      <td>1.062159</td>\n",
       "      <td>1.068664</td>\n",
       "      <td>1.073495</td>\n",
       "      <td>1.935608</td>\n",
       "      <td>1.154226</td>\n",
       "      <td>1.970937</td>\n",
       "      <td>1.508072</td>\n",
       "      <td>0.930947</td>\n",
       "    </tr>\n",
       "    <tr>\n",
       "      <th>1509</th>\n",
       "      <td>1.571297</td>\n",
       "      <td>1.024922</td>\n",
       "      <td>1.182114</td>\n",
       "      <td>1.331767</td>\n",
       "      <td>1.722688</td>\n",
       "      <td>1.255477</td>\n",
       "      <td>0.997271</td>\n",
       "      <td>1.621742</td>\n",
       "      <td>1.573797</td>\n",
       "      <td>1.094142</td>\n",
       "      <td>...</td>\n",
       "      <td>1.441085</td>\n",
       "      <td>1.760336</td>\n",
       "      <td>1.062218</td>\n",
       "      <td>1.064604</td>\n",
       "      <td>1.077828</td>\n",
       "      <td>1.934576</td>\n",
       "      <td>1.159603</td>\n",
       "      <td>1.982361</td>\n",
       "      <td>1.514706</td>\n",
       "      <td>0.936041</td>\n",
       "    </tr>\n",
       "    <tr>\n",
       "      <th>1510</th>\n",
       "      <td>1.568919</td>\n",
       "      <td>1.031566</td>\n",
       "      <td>1.186961</td>\n",
       "      <td>1.329851</td>\n",
       "      <td>1.720467</td>\n",
       "      <td>1.264995</td>\n",
       "      <td>0.999295</td>\n",
       "      <td>1.615481</td>\n",
       "      <td>1.570252</td>\n",
       "      <td>1.092977</td>\n",
       "      <td>...</td>\n",
       "      <td>1.427646</td>\n",
       "      <td>1.761305</td>\n",
       "      <td>1.068371</td>\n",
       "      <td>1.070513</td>\n",
       "      <td>1.081272</td>\n",
       "      <td>1.939299</td>\n",
       "      <td>1.169854</td>\n",
       "      <td>1.960946</td>\n",
       "      <td>1.513360</td>\n",
       "      <td>0.932097</td>\n",
       "    </tr>\n",
       "    <tr>\n",
       "      <th>1511</th>\n",
       "      <td>1.559886</td>\n",
       "      <td>1.019280</td>\n",
       "      <td>1.193046</td>\n",
       "      <td>1.334555</td>\n",
       "      <td>1.725576</td>\n",
       "      <td>1.257908</td>\n",
       "      <td>0.997687</td>\n",
       "      <td>1.606738</td>\n",
       "      <td>1.553923</td>\n",
       "      <td>1.103061</td>\n",
       "      <td>...</td>\n",
       "      <td>1.419868</td>\n",
       "      <td>1.763461</td>\n",
       "      <td>1.073644</td>\n",
       "      <td>1.069235</td>\n",
       "      <td>1.077827</td>\n",
       "      <td>1.955581</td>\n",
       "      <td>1.170155</td>\n",
       "      <td>1.962545</td>\n",
       "      <td>1.513928</td>\n",
       "      <td>0.930267</td>\n",
       "    </tr>\n",
       "    <tr>\n",
       "      <th>1512</th>\n",
       "      <td>1.564066</td>\n",
       "      <td>1.014904</td>\n",
       "      <td>1.193213</td>\n",
       "      <td>1.335997</td>\n",
       "      <td>1.726839</td>\n",
       "      <td>1.260649</td>\n",
       "      <td>1.004688</td>\n",
       "      <td>1.621364</td>\n",
       "      <td>1.559997</td>\n",
       "      <td>1.103515</td>\n",
       "      <td>...</td>\n",
       "      <td>1.428446</td>\n",
       "      <td>1.784245</td>\n",
       "      <td>1.066203</td>\n",
       "      <td>1.073794</td>\n",
       "      <td>1.071629</td>\n",
       "      <td>1.945422</td>\n",
       "      <td>1.174417</td>\n",
       "      <td>1.981499</td>\n",
       "      <td>1.509413</td>\n",
       "      <td>0.933472</td>\n",
       "    </tr>\n",
       "  </tbody>\n",
       "</table>\n",
       "<p>1513 rows × 500 columns</p>\n",
       "</div>"
      ],
      "text/plain": [
       "           0         1         2         3         4         5         6    \\\n",
       "0     1.000000  1.000000  1.000000  1.000000  1.000000  1.000000  1.000000   \n",
       "1     0.991158  1.006559  0.994310  0.995377  0.994142  0.999808  0.995571   \n",
       "2     0.988266  1.002540  1.000665  1.001439  0.993708  0.997624  0.990782   \n",
       "3     0.982464  1.005447  1.003038  1.003303  0.991000  1.004097  0.992422   \n",
       "4     0.981298  1.004064  1.010784  1.003893  0.985303  1.005575  0.983813   \n",
       "...        ...       ...       ...       ...       ...       ...       ...   \n",
       "1508  1.574527  1.014411  1.184469  1.343323  1.723352  1.263266  0.986901   \n",
       "1509  1.571297  1.024922  1.182114  1.331767  1.722688  1.255477  0.997271   \n",
       "1510  1.568919  1.031566  1.186961  1.329851  1.720467  1.264995  0.999295   \n",
       "1511  1.559886  1.019280  1.193046  1.334555  1.725576  1.257908  0.997687   \n",
       "1512  1.564066  1.014904  1.193213  1.335997  1.726839  1.260649  1.004688   \n",
       "\n",
       "           7         8         9    ...       490       491       492  \\\n",
       "0     1.000000  1.000000  1.000000  ...  1.000000  1.000000  1.000000   \n",
       "1     0.994631  0.998533  0.993420  ...  0.995564  0.991114  0.999766   \n",
       "2     1.001364  1.012592  0.999957  ...  0.995999  0.988494  1.000421   \n",
       "3     0.994167  1.015513  1.001390  ...  0.990253  0.992171  0.999140   \n",
       "4     0.994848  1.009856  1.007565  ...  0.988179  0.997805  1.000828   \n",
       "...        ...       ...       ...  ...       ...       ...       ...   \n",
       "1508  1.612868  1.566094  1.090794  ...  1.440874  1.751677  1.062159   \n",
       "1509  1.621742  1.573797  1.094142  ...  1.441085  1.760336  1.062218   \n",
       "1510  1.615481  1.570252  1.092977  ...  1.427646  1.761305  1.068371   \n",
       "1511  1.606738  1.553923  1.103061  ...  1.419868  1.763461  1.073644   \n",
       "1512  1.621364  1.559997  1.103515  ...  1.428446  1.784245  1.066203   \n",
       "\n",
       "           493       494       495       496       497       498       499  \n",
       "0     1.000000  1.000000  1.000000  1.000000  1.000000  1.000000  1.000000  \n",
       "1     1.002948  1.006110  1.004913  1.007169  0.999895  1.003624  1.003829  \n",
       "2     0.993109  1.003902  1.013991  1.004220  0.990117  1.001223  1.001192  \n",
       "3     0.991653  1.007700  1.017998  1.003666  0.988605  0.999546  0.995085  \n",
       "4     0.990262  1.010052  1.017768  1.006022  1.001953  0.999710  0.992636  \n",
       "...        ...       ...       ...       ...       ...       ...       ...  \n",
       "1508  1.068664  1.073495  1.935608  1.154226  1.970937  1.508072  0.930947  \n",
       "1509  1.064604  1.077828  1.934576  1.159603  1.982361  1.514706  0.936041  \n",
       "1510  1.070513  1.081272  1.939299  1.169854  1.960946  1.513360  0.932097  \n",
       "1511  1.069235  1.077827  1.955581  1.170155  1.962545  1.513928  0.930267  \n",
       "1512  1.073794  1.071629  1.945422  1.174417  1.981499  1.509413  0.933472  \n",
       "\n",
       "[1513 rows x 500 columns]"
      ]
     },
     "execution_count": 174,
     "metadata": {},
     "output_type": "execute_result"
    }
   ],
   "source": [
    "mc.calc_cumulative_return()"
   ]
  },
  {
   "cell_type": "code",
   "execution_count": 175,
   "metadata": {},
   "outputs": [
    {
     "data": {
      "image/png": "[encoded data removed]",
      "text/plain": [
       "<Figure size 432x288 with 1 Axes>"
      ]
     },
     "metadata": {
      "needs_background": "light"
     },
     "output_type": "display_data"
    }
   ],
   "source": [
    "line = mc.plot_simulation()"
   ]
  },
  {
   "cell_type": "code",
   "execution_count": null,
   "metadata": {},
   "outputs": [],
   "source": []
  },
  {
   "cell_type": "code",
   "execution_count": null,
   "metadata": {},
   "outputs": [],
   "source": []
  },
  {
   "cell_type": "code",
   "execution_count": null,
   "metadata": {},
   "outputs": [],
   "source": []
  },
  {
   "cell_type": "code",
   "execution_count": null,
   "metadata": {},
   "outputs": [],
   "source": []
  },
  {
   "cell_type": "code",
   "execution_count": 148,
   "metadata": {},
   "outputs": [],
   "source": [
    "df_stock_data.index = df_stock_data.index.date"
   ]
  },
  {
   "cell_type": "code",
   "execution_count": 149,
   "metadata": {},
   "outputs": [
    {
     "data": {
      "text/html": [
       "<div>\n",
       "<style scoped>\n",
       "    .dataframe tbody tr th:only-of-type {\n",
       "        vertical-align: middle;\n",
       "    }\n",
       "\n",
       "    .dataframe tbody tr th {\n",
       "        vertical-align: top;\n",
       "    }\n",
       "\n",
       "    .dataframe thead th {\n",
       "        text-align: right;\n",
       "    }\n",
       "</style>\n",
       "<table border=\"1\" class=\"dataframe\">\n",
       "  <thead>\n",
       "    <tr style=\"text-align: right;\">\n",
       "      <th></th>\n",
       "      <th>open</th>\n",
       "      <th>high</th>\n",
       "      <th>low</th>\n",
       "      <th>close</th>\n",
       "      <th>volume</th>\n",
       "      <th>trade_count</th>\n",
       "      <th>vwap</th>\n",
       "      <th>symbol</th>\n",
       "    </tr>\n",
       "  </thead>\n",
       "  <tbody>\n",
       "    <tr>\n",
       "      <th>2021-03-30</th>\n",
       "      <td>113.64</td>\n",
       "      <td>113.85</td>\n",
       "      <td>113.525</td>\n",
       "      <td>113.81</td>\n",
       "      <td>4996946</td>\n",
       "      <td>21629</td>\n",
       "      <td>113.725016</td>\n",
       "      <td>AGG</td>\n",
       "    </tr>\n",
       "    <tr>\n",
       "      <th>2021-03-31</th>\n",
       "      <td>113.84</td>\n",
       "      <td>113.98</td>\n",
       "      <td>113.710</td>\n",
       "      <td>113.83</td>\n",
       "      <td>6309151</td>\n",
       "      <td>20046</td>\n",
       "      <td>113.851382</td>\n",
       "      <td>AGG</td>\n",
       "    </tr>\n",
       "    <tr>\n",
       "      <th>2021-04-01</th>\n",
       "      <td>113.93</td>\n",
       "      <td>114.05</td>\n",
       "      <td>113.830</td>\n",
       "      <td>114.04</td>\n",
       "      <td>10766423</td>\n",
       "      <td>31622</td>\n",
       "      <td>113.979773</td>\n",
       "      <td>AGG</td>\n",
       "    </tr>\n",
       "    <tr>\n",
       "      <th>2021-04-05</th>\n",
       "      <td>113.84</td>\n",
       "      <td>113.89</td>\n",
       "      <td>113.690</td>\n",
       "      <td>113.81</td>\n",
       "      <td>9229625</td>\n",
       "      <td>32639</td>\n",
       "      <td>113.804845</td>\n",
       "      <td>AGG</td>\n",
       "    </tr>\n",
       "    <tr>\n",
       "      <th>2021-04-06</th>\n",
       "      <td>113.98</td>\n",
       "      <td>114.22</td>\n",
       "      <td>113.950</td>\n",
       "      <td>114.21</td>\n",
       "      <td>4859922</td>\n",
       "      <td>19800</td>\n",
       "      <td>114.112076</td>\n",
       "      <td>AGG</td>\n",
       "    </tr>\n",
       "  </tbody>\n",
       "</table>\n",
       "</div>"
      ],
      "text/plain": [
       "              open    high      low   close    volume  trade_count  \\\n",
       "2021-03-30  113.64  113.85  113.525  113.81   4996946        21629   \n",
       "2021-03-31  113.84  113.98  113.710  113.83   6309151        20046   \n",
       "2021-04-01  113.93  114.05  113.830  114.04  10766423        31622   \n",
       "2021-04-05  113.84  113.89  113.690  113.81   9229625        32639   \n",
       "2021-04-06  113.98  114.22  113.950  114.21   4859922        19800   \n",
       "\n",
       "                  vwap symbol  \n",
       "2021-03-30  113.725016    AGG  \n",
       "2021-03-31  113.851382    AGG  \n",
       "2021-04-01  113.979773    AGG  \n",
       "2021-04-05  113.804845    AGG  \n",
       "2021-04-06  114.112076    AGG  "
      ]
     },
     "execution_count": 149,
     "metadata": {},
     "output_type": "execute_result"
    }
   ],
   "source": [
    "df_stock_data.head()"
   ]
  },
  {
   "cell_type": "code",
   "execution_count": 150,
   "metadata": {},
   "outputs": [],
   "source": [
    "def get_data(ticker_name, start_date, end_date):\n",
    "    df_ticker = alpaca.get_bars(ticker_name, TimeFrame.Day, start_date, end_date, adjustment='raw').df\n",
    "    df_ticker.index = df_ticker.index.date\n",
    "    df_ticker=df_ticker[['close']]\n",
    "    \n",
    "    return df_ticker"
   ]
  },
  {
   "cell_type": "code",
   "execution_count": 151,
   "metadata": {},
   "outputs": [
    {
     "data": {
      "text/html": [
       "<div>\n",
       "<style scoped>\n",
       "    .dataframe tbody tr th:only-of-type {\n",
       "        vertical-align: middle;\n",
       "    }\n",
       "\n",
       "    .dataframe tbody tr th {\n",
       "        vertical-align: top;\n",
       "    }\n",
       "\n",
       "    .dataframe thead th {\n",
       "        text-align: right;\n",
       "    }\n",
       "</style>\n",
       "<table border=\"1\" class=\"dataframe\">\n",
       "  <thead>\n",
       "    <tr style=\"text-align: right;\">\n",
       "      <th></th>\n",
       "      <th>close</th>\n",
       "    </tr>\n",
       "  </thead>\n",
       "  <tbody>\n",
       "    <tr>\n",
       "      <th>2022-02-23</th>\n",
       "      <td>109.26</td>\n",
       "    </tr>\n",
       "    <tr>\n",
       "      <th>2022-02-24</th>\n",
       "      <td>109.46</td>\n",
       "    </tr>\n",
       "    <tr>\n",
       "      <th>2022-02-25</th>\n",
       "      <td>109.57</td>\n",
       "    </tr>\n",
       "    <tr>\n",
       "      <th>2022-02-28</th>\n",
       "      <td>110.36</td>\n",
       "    </tr>\n",
       "    <tr>\n",
       "      <th>2022-03-01</th>\n",
       "      <td>110.82</td>\n",
       "    </tr>\n",
       "    <tr>\n",
       "      <th>2022-03-02</th>\n",
       "      <td>109.49</td>\n",
       "    </tr>\n",
       "    <tr>\n",
       "      <th>2022-03-03</th>\n",
       "      <td>109.86</td>\n",
       "    </tr>\n",
       "    <tr>\n",
       "      <th>2022-03-04</th>\n",
       "      <td>110.30</td>\n",
       "    </tr>\n",
       "    <tr>\n",
       "      <th>2022-03-07</th>\n",
       "      <td>109.66</td>\n",
       "    </tr>\n",
       "    <tr>\n",
       "      <th>2022-03-08</th>\n",
       "      <td>109.27</td>\n",
       "    </tr>\n",
       "    <tr>\n",
       "      <th>2022-03-09</th>\n",
       "      <td>109.04</td>\n",
       "    </tr>\n",
       "    <tr>\n",
       "      <th>2022-03-10</th>\n",
       "      <td>108.43</td>\n",
       "    </tr>\n",
       "    <tr>\n",
       "      <th>2022-03-11</th>\n",
       "      <td>108.41</td>\n",
       "    </tr>\n",
       "    <tr>\n",
       "      <th>2022-03-14</th>\n",
       "      <td>107.36</td>\n",
       "    </tr>\n",
       "    <tr>\n",
       "      <th>2022-03-15</th>\n",
       "      <td>107.60</td>\n",
       "    </tr>\n",
       "    <tr>\n",
       "      <th>2022-03-16</th>\n",
       "      <td>107.68</td>\n",
       "    </tr>\n",
       "    <tr>\n",
       "      <th>2022-03-17</th>\n",
       "      <td>107.86</td>\n",
       "    </tr>\n",
       "    <tr>\n",
       "      <th>2022-03-18</th>\n",
       "      <td>108.10</td>\n",
       "    </tr>\n",
       "    <tr>\n",
       "      <th>2022-03-21</th>\n",
       "      <td>107.04</td>\n",
       "    </tr>\n",
       "    <tr>\n",
       "      <th>2022-03-22</th>\n",
       "      <td>106.75</td>\n",
       "    </tr>\n",
       "    <tr>\n",
       "      <th>2022-03-23</th>\n",
       "      <td>107.19</td>\n",
       "    </tr>\n",
       "  </tbody>\n",
       "</table>\n",
       "</div>"
      ],
      "text/plain": [
       "             close\n",
       "2022-02-23  109.26\n",
       "2022-02-24  109.46\n",
       "2022-02-25  109.57\n",
       "2022-02-28  110.36\n",
       "2022-03-01  110.82\n",
       "2022-03-02  109.49\n",
       "2022-03-03  109.86\n",
       "2022-03-04  110.30\n",
       "2022-03-07  109.66\n",
       "2022-03-08  109.27\n",
       "2022-03-09  109.04\n",
       "2022-03-10  108.43\n",
       "2022-03-11  108.41\n",
       "2022-03-14  107.36\n",
       "2022-03-15  107.60\n",
       "2022-03-16  107.68\n",
       "2022-03-17  107.86\n",
       "2022-03-18  108.10\n",
       "2022-03-21  107.04\n",
       "2022-03-22  106.75\n",
       "2022-03-23  107.19"
      ]
     },
     "execution_count": 151,
     "metadata": {},
     "output_type": "execute_result"
    }
   ],
   "source": [
    "df1=get_data('AGG', '2022-02-23', '2022-03-23')\n",
    "df1"
   ]
  },
  {
   "cell_type": "code",
   "execution_count": 152,
   "metadata": {},
   "outputs": [
    {
     "data": {
      "text/html": [
       "<div>\n",
       "<style scoped>\n",
       "    .dataframe tbody tr th:only-of-type {\n",
       "        vertical-align: middle;\n",
       "    }\n",
       "\n",
       "    .dataframe tbody tr th {\n",
       "        vertical-align: top;\n",
       "    }\n",
       "\n",
       "    .dataframe thead th {\n",
       "        text-align: right;\n",
       "    }\n",
       "</style>\n",
       "<table border=\"1\" class=\"dataframe\">\n",
       "  <thead>\n",
       "    <tr style=\"text-align: right;\">\n",
       "      <th></th>\n",
       "      <th>close</th>\n",
       "    </tr>\n",
       "  </thead>\n",
       "  <tbody>\n",
       "    <tr>\n",
       "      <th>2022-02-23</th>\n",
       "      <td>422.07</td>\n",
       "    </tr>\n",
       "    <tr>\n",
       "      <th>2022-02-24</th>\n",
       "      <td>428.30</td>\n",
       "    </tr>\n",
       "    <tr>\n",
       "      <th>2022-02-25</th>\n",
       "      <td>437.75</td>\n",
       "    </tr>\n",
       "    <tr>\n",
       "      <th>2022-02-28</th>\n",
       "      <td>436.63</td>\n",
       "    </tr>\n",
       "    <tr>\n",
       "      <th>2022-03-01</th>\n",
       "      <td>429.98</td>\n",
       "    </tr>\n",
       "    <tr>\n",
       "      <th>2022-03-02</th>\n",
       "      <td>437.89</td>\n",
       "    </tr>\n",
       "    <tr>\n",
       "      <th>2022-03-03</th>\n",
       "      <td>435.77</td>\n",
       "    </tr>\n",
       "    <tr>\n",
       "      <th>2022-03-04</th>\n",
       "      <td>432.10</td>\n",
       "    </tr>\n",
       "    <tr>\n",
       "      <th>2022-03-07</th>\n",
       "      <td>419.43</td>\n",
       "    </tr>\n",
       "    <tr>\n",
       "      <th>2022-03-08</th>\n",
       "      <td>416.25</td>\n",
       "    </tr>\n",
       "    <tr>\n",
       "      <th>2022-03-09</th>\n",
       "      <td>427.33</td>\n",
       "    </tr>\n",
       "    <tr>\n",
       "      <th>2022-03-10</th>\n",
       "      <td>425.48</td>\n",
       "    </tr>\n",
       "    <tr>\n",
       "      <th>2022-03-11</th>\n",
       "      <td>420.07</td>\n",
       "    </tr>\n",
       "    <tr>\n",
       "      <th>2022-03-14</th>\n",
       "      <td>417.00</td>\n",
       "    </tr>\n",
       "    <tr>\n",
       "      <th>2022-03-15</th>\n",
       "      <td>426.17</td>\n",
       "    </tr>\n",
       "    <tr>\n",
       "      <th>2022-03-16</th>\n",
       "      <td>435.55</td>\n",
       "    </tr>\n",
       "    <tr>\n",
       "      <th>2022-03-17</th>\n",
       "      <td>441.07</td>\n",
       "    </tr>\n",
       "    <tr>\n",
       "      <th>2022-03-18</th>\n",
       "      <td>444.31</td>\n",
       "    </tr>\n",
       "    <tr>\n",
       "      <th>2022-03-21</th>\n",
       "      <td>444.30</td>\n",
       "    </tr>\n",
       "    <tr>\n",
       "      <th>2022-03-22</th>\n",
       "      <td>449.59</td>\n",
       "    </tr>\n",
       "    <tr>\n",
       "      <th>2022-03-23</th>\n",
       "      <td>443.80</td>\n",
       "    </tr>\n",
       "  </tbody>\n",
       "</table>\n",
       "</div>"
      ],
      "text/plain": [
       "             close\n",
       "2022-02-23  422.07\n",
       "2022-02-24  428.30\n",
       "2022-02-25  437.75\n",
       "2022-02-28  436.63\n",
       "2022-03-01  429.98\n",
       "2022-03-02  437.89\n",
       "2022-03-03  435.77\n",
       "2022-03-04  432.10\n",
       "2022-03-07  419.43\n",
       "2022-03-08  416.25\n",
       "2022-03-09  427.33\n",
       "2022-03-10  425.48\n",
       "2022-03-11  420.07\n",
       "2022-03-14  417.00\n",
       "2022-03-15  426.17\n",
       "2022-03-16  435.55\n",
       "2022-03-17  441.07\n",
       "2022-03-18  444.31\n",
       "2022-03-21  444.30\n",
       "2022-03-22  449.59\n",
       "2022-03-23  443.80"
      ]
     },
     "execution_count": 152,
     "metadata": {},
     "output_type": "execute_result"
    }
   ],
   "source": [
    "df2=get_data('SPY', '2022-02-23', '2022-03-23')\n",
    "df2"
   ]
  },
  {
   "cell_type": "code",
   "execution_count": 153,
   "metadata": {},
   "outputs": [
    {
     "data": {
      "text/plain": [
       "107.19"
      ]
     },
     "execution_count": 153,
     "metadata": {},
     "output_type": "execute_result"
    }
   ],
   "source": [
    "initial_price = df1.iloc[-1].values[0]\n",
    "initial_price"
   ]
  },
  {
   "cell_type": "code",
   "execution_count": 154,
   "metadata": {},
   "outputs": [
    {
     "data": {
      "text/html": [
       "<div>\n",
       "<style scoped>\n",
       "    .dataframe tbody tr th:only-of-type {\n",
       "        vertical-align: middle;\n",
       "    }\n",
       "\n",
       "    .dataframe tbody tr th {\n",
       "        vertical-align: top;\n",
       "    }\n",
       "\n",
       "    .dataframe thead th {\n",
       "        text-align: right;\n",
       "    }\n",
       "</style>\n",
       "<table border=\"1\" class=\"dataframe\">\n",
       "  <thead>\n",
       "    <tr style=\"text-align: right;\">\n",
       "      <th></th>\n",
       "      <th>close</th>\n",
       "    </tr>\n",
       "  </thead>\n",
       "  <tbody>\n",
       "    <tr>\n",
       "      <th>2022-02-24</th>\n",
       "      <td>0.001830</td>\n",
       "    </tr>\n",
       "    <tr>\n",
       "      <th>2022-02-25</th>\n",
       "      <td>0.001005</td>\n",
       "    </tr>\n",
       "    <tr>\n",
       "      <th>2022-02-28</th>\n",
       "      <td>0.007210</td>\n",
       "    </tr>\n",
       "    <tr>\n",
       "      <th>2022-03-01</th>\n",
       "      <td>0.004168</td>\n",
       "    </tr>\n",
       "    <tr>\n",
       "      <th>2022-03-02</th>\n",
       "      <td>-0.012001</td>\n",
       "    </tr>\n",
       "    <tr>\n",
       "      <th>2022-03-03</th>\n",
       "      <td>0.003379</td>\n",
       "    </tr>\n",
       "    <tr>\n",
       "      <th>2022-03-04</th>\n",
       "      <td>0.004005</td>\n",
       "    </tr>\n",
       "    <tr>\n",
       "      <th>2022-03-07</th>\n",
       "      <td>-0.005802</td>\n",
       "    </tr>\n",
       "    <tr>\n",
       "      <th>2022-03-08</th>\n",
       "      <td>-0.003556</td>\n",
       "    </tr>\n",
       "    <tr>\n",
       "      <th>2022-03-09</th>\n",
       "      <td>-0.002105</td>\n",
       "    </tr>\n",
       "    <tr>\n",
       "      <th>2022-03-10</th>\n",
       "      <td>-0.005594</td>\n",
       "    </tr>\n",
       "    <tr>\n",
       "      <th>2022-03-11</th>\n",
       "      <td>-0.000184</td>\n",
       "    </tr>\n",
       "    <tr>\n",
       "      <th>2022-03-14</th>\n",
       "      <td>-0.009685</td>\n",
       "    </tr>\n",
       "    <tr>\n",
       "      <th>2022-03-15</th>\n",
       "      <td>0.002235</td>\n",
       "    </tr>\n",
       "    <tr>\n",
       "      <th>2022-03-16</th>\n",
       "      <td>0.000743</td>\n",
       "    </tr>\n",
       "    <tr>\n",
       "      <th>2022-03-17</th>\n",
       "      <td>0.001672</td>\n",
       "    </tr>\n",
       "    <tr>\n",
       "      <th>2022-03-18</th>\n",
       "      <td>0.002225</td>\n",
       "    </tr>\n",
       "    <tr>\n",
       "      <th>2022-03-21</th>\n",
       "      <td>-0.009806</td>\n",
       "    </tr>\n",
       "    <tr>\n",
       "      <th>2022-03-22</th>\n",
       "      <td>-0.002709</td>\n",
       "    </tr>\n",
       "    <tr>\n",
       "      <th>2022-03-23</th>\n",
       "      <td>0.004122</td>\n",
       "    </tr>\n",
       "  </tbody>\n",
       "</table>\n",
       "</div>"
      ],
      "text/plain": [
       "               close\n",
       "2022-02-24  0.001830\n",
       "2022-02-25  0.001005\n",
       "2022-02-28  0.007210\n",
       "2022-03-01  0.004168\n",
       "2022-03-02 -0.012001\n",
       "2022-03-03  0.003379\n",
       "2022-03-04  0.004005\n",
       "2022-03-07 -0.005802\n",
       "2022-03-08 -0.003556\n",
       "2022-03-09 -0.002105\n",
       "2022-03-10 -0.005594\n",
       "2022-03-11 -0.000184\n",
       "2022-03-14 -0.009685\n",
       "2022-03-15  0.002235\n",
       "2022-03-16  0.000743\n",
       "2022-03-17  0.001672\n",
       "2022-03-18  0.002225\n",
       "2022-03-21 -0.009806\n",
       "2022-03-22 -0.002709\n",
       "2022-03-23  0.004122"
      ]
     },
     "execution_count": 154,
     "metadata": {},
     "output_type": "execute_result"
    }
   ],
   "source": [
    "pct_changes = df1.pct_change()\n",
    "pct_changes.dropna(inplace=True)\n",
    "pct_changes.index = pd.to_datetime(pct_changes.index)\n",
    "pct_changes"
   ]
  },
  {
   "cell_type": "code",
   "execution_count": 155,
   "metadata": {},
   "outputs": [
    {
     "data": {
      "text/html": [
       "<div>\n",
       "<style scoped>\n",
       "    .dataframe tbody tr th:only-of-type {\n",
       "        vertical-align: middle;\n",
       "    }\n",
       "\n",
       "    .dataframe tbody tr th {\n",
       "        vertical-align: top;\n",
       "    }\n",
       "\n",
       "    .dataframe thead th {\n",
       "        text-align: right;\n",
       "    }\n",
       "</style>\n",
       "<table border=\"1\" class=\"dataframe\">\n",
       "  <thead>\n",
       "    <tr style=\"text-align: right;\">\n",
       "      <th></th>\n",
       "      <th>close</th>\n",
       "    </tr>\n",
       "  </thead>\n",
       "  <tbody>\n",
       "    <tr>\n",
       "      <th>2022-02-24</th>\n",
       "      <td>0.014761</td>\n",
       "    </tr>\n",
       "    <tr>\n",
       "      <th>2022-02-25</th>\n",
       "      <td>0.022064</td>\n",
       "    </tr>\n",
       "    <tr>\n",
       "      <th>2022-02-28</th>\n",
       "      <td>-0.002559</td>\n",
       "    </tr>\n",
       "    <tr>\n",
       "      <th>2022-03-01</th>\n",
       "      <td>-0.015230</td>\n",
       "    </tr>\n",
       "    <tr>\n",
       "      <th>2022-03-02</th>\n",
       "      <td>0.018396</td>\n",
       "    </tr>\n",
       "    <tr>\n",
       "      <th>2022-03-03</th>\n",
       "      <td>-0.004841</td>\n",
       "    </tr>\n",
       "    <tr>\n",
       "      <th>2022-03-04</th>\n",
       "      <td>-0.008422</td>\n",
       "    </tr>\n",
       "    <tr>\n",
       "      <th>2022-03-07</th>\n",
       "      <td>-0.029322</td>\n",
       "    </tr>\n",
       "    <tr>\n",
       "      <th>2022-03-08</th>\n",
       "      <td>-0.007582</td>\n",
       "    </tr>\n",
       "    <tr>\n",
       "      <th>2022-03-09</th>\n",
       "      <td>0.026619</td>\n",
       "    </tr>\n",
       "    <tr>\n",
       "      <th>2022-03-10</th>\n",
       "      <td>-0.004329</td>\n",
       "    </tr>\n",
       "    <tr>\n",
       "      <th>2022-03-11</th>\n",
       "      <td>-0.012715</td>\n",
       "    </tr>\n",
       "    <tr>\n",
       "      <th>2022-03-14</th>\n",
       "      <td>-0.007308</td>\n",
       "    </tr>\n",
       "    <tr>\n",
       "      <th>2022-03-15</th>\n",
       "      <td>0.021990</td>\n",
       "    </tr>\n",
       "    <tr>\n",
       "      <th>2022-03-16</th>\n",
       "      <td>0.022010</td>\n",
       "    </tr>\n",
       "    <tr>\n",
       "      <th>2022-03-17</th>\n",
       "      <td>0.012674</td>\n",
       "    </tr>\n",
       "    <tr>\n",
       "      <th>2022-03-18</th>\n",
       "      <td>0.007346</td>\n",
       "    </tr>\n",
       "    <tr>\n",
       "      <th>2022-03-21</th>\n",
       "      <td>-0.000023</td>\n",
       "    </tr>\n",
       "    <tr>\n",
       "      <th>2022-03-22</th>\n",
       "      <td>0.011906</td>\n",
       "    </tr>\n",
       "    <tr>\n",
       "      <th>2022-03-23</th>\n",
       "      <td>-0.012878</td>\n",
       "    </tr>\n",
       "  </tbody>\n",
       "</table>\n",
       "</div>"
      ],
      "text/plain": [
       "               close\n",
       "2022-02-24  0.014761\n",
       "2022-02-25  0.022064\n",
       "2022-02-28 -0.002559\n",
       "2022-03-01 -0.015230\n",
       "2022-03-02  0.018396\n",
       "2022-03-03 -0.004841\n",
       "2022-03-04 -0.008422\n",
       "2022-03-07 -0.029322\n",
       "2022-03-08 -0.007582\n",
       "2022-03-09  0.026619\n",
       "2022-03-10 -0.004329\n",
       "2022-03-11 -0.012715\n",
       "2022-03-14 -0.007308\n",
       "2022-03-15  0.021990\n",
       "2022-03-16  0.022010\n",
       "2022-03-17  0.012674\n",
       "2022-03-18  0.007346\n",
       "2022-03-21 -0.000023\n",
       "2022-03-22  0.011906\n",
       "2022-03-23 -0.012878"
      ]
     },
     "execution_count": 155,
     "metadata": {},
     "output_type": "execute_result"
    }
   ],
   "source": [
    "pct_changes = df2.pct_change()\n",
    "pct_changes.dropna(inplace=True)\n",
    "pct_changes.index = pd.to_datetime(pct_changes.index)\n",
    "pct_changes"
   ]
  },
  {
   "cell_type": "code",
   "execution_count": 156,
   "metadata": {},
   "outputs": [],
   "source": [
    "from random import sample"
   ]
  },
  {
   "cell_type": "code",
   "execution_count": 161,
   "metadata": {},
   "outputs": [],
   "source": [
    "#possible_changes = list(pct_changes['AGG']['close'].values)\n",
    "#possible_changes[0:10]"
   ]
  },
  {
   "cell_type": "code",
   "execution_count": 164,
   "metadata": {},
   "outputs": [],
   "source": [
    "from random import sample\n",
    "def plot_MC(ticker, start_date, end_date):\n",
    "    df = get_data(ticker, start_date, end_date)\n",
    "    initial_price= df.iloc[-1].values[0]\n",
    "    \n",
    "    pct_changes = df.pct_change()\n",
    "    pct_changes.dropna(inplace=True)\n",
    "    pct_changes.index = pd.to_datetime(pct_changes.index)\n",
    "    \n",
    "    possible_changes = list(pct_changes['close'].values)\n",
    "    \n",
    "   # plt.figure(figsize=(20,10))\n",
    "    \n",
    "    realizations = []\n",
    "    for i in range (0,500):\n",
    "        \n",
    "        current_price = initial_price\n",
    "        current_price_history = []\n",
    "        for i in range (num_days):\n",
    "            current_pct_change = sample(possible_changes,1)[0]\n",
    "            current_price = current_price = (1+ current_pct_change)\n",
    "            current_price_history.append(current_price)\n",
    "            \n",
    "        plt.plot(current_price_history)\n",
    "        plt.title(f\"Monte Carlo Simulation for {ticker}\")\n",
    "            \n",
    "        realizations.append(current_price_history)\n",
    "            \n",
    "    plt.show()\n",
    "        "
   ]
  },
  {
   "cell_type": "code",
   "execution_count": 165,
   "metadata": {},
   "outputs": [
    {
     "ename": "NameError",
     "evalue": "name 'num_days' is not defined",
     "output_type": "error",
     "traceback": [
      "\u001b[0;31m---------------------------------------------------------------------------\u001b[0m",
      "\u001b[0;31mNameError\u001b[0m                                 Traceback (most recent call last)",
      "\u001b[0;32m/var/folders/1z/zl3xctrs405bvlcjxg8l94000000gn/T/ipykernel_5922/340273751.py\u001b[0m in \u001b[0;36m<module>\u001b[0;34m\u001b[0m\n\u001b[0;32m----> 1\u001b[0;31m \u001b[0mplot_MC\u001b[0m\u001b[0;34m(\u001b[0m\u001b[0;34m'AGG'\u001b[0m\u001b[0;34m,\u001b[0m \u001b[0;34m'2022-02-23'\u001b[0m\u001b[0;34m,\u001b[0m \u001b[0;34m'2022-03-23'\u001b[0m\u001b[0;34m)\u001b[0m\u001b[0;34m\u001b[0m\u001b[0;34m\u001b[0m\u001b[0m\n\u001b[0m",
      "\u001b[0;32m/var/folders/1z/zl3xctrs405bvlcjxg8l94000000gn/T/ipykernel_5922/1771469085.py\u001b[0m in \u001b[0;36mplot_MC\u001b[0;34m(ticker, start_date, end_date)\u001b[0m\n\u001b[1;32m     17\u001b[0m         \u001b[0mcurrent_price\u001b[0m \u001b[0;34m=\u001b[0m \u001b[0minitial_price\u001b[0m\u001b[0;34m\u001b[0m\u001b[0;34m\u001b[0m\u001b[0m\n\u001b[1;32m     18\u001b[0m         \u001b[0mcurrent_price_history\u001b[0m \u001b[0;34m=\u001b[0m \u001b[0;34m[\u001b[0m\u001b[0;34m]\u001b[0m\u001b[0;34m\u001b[0m\u001b[0;34m\u001b[0m\u001b[0m\n\u001b[0;32m---> 19\u001b[0;31m         \u001b[0;32mfor\u001b[0m \u001b[0mi\u001b[0m \u001b[0;32min\u001b[0m \u001b[0mrange\u001b[0m \u001b[0;34m(\u001b[0m\u001b[0mnum_days\u001b[0m\u001b[0;34m)\u001b[0m\u001b[0;34m:\u001b[0m\u001b[0;34m\u001b[0m\u001b[0;34m\u001b[0m\u001b[0m\n\u001b[0m\u001b[1;32m     20\u001b[0m             \u001b[0mcurrent_pct_change\u001b[0m \u001b[0;34m=\u001b[0m \u001b[0msample\u001b[0m\u001b[0;34m(\u001b[0m\u001b[0mpossible_changes\u001b[0m\u001b[0;34m,\u001b[0m\u001b[0;36m1\u001b[0m\u001b[0;34m)\u001b[0m\u001b[0;34m[\u001b[0m\u001b[0;36m0\u001b[0m\u001b[0;34m]\u001b[0m\u001b[0;34m\u001b[0m\u001b[0;34m\u001b[0m\u001b[0m\n\u001b[1;32m     21\u001b[0m             \u001b[0mcurrent_price\u001b[0m \u001b[0;34m=\u001b[0m \u001b[0mcurrent_price\u001b[0m \u001b[0;34m=\u001b[0m \u001b[0;34m(\u001b[0m\u001b[0;36m1\u001b[0m\u001b[0;34m+\u001b[0m \u001b[0mcurrent_pct_change\u001b[0m\u001b[0;34m)\u001b[0m\u001b[0;34m\u001b[0m\u001b[0;34m\u001b[0m\u001b[0m\n",
      "\u001b[0;31mNameError\u001b[0m: name 'num_days' is not defined"
     ]
    }
   ],
   "source": [
    "plot_MC('AGG', '2022-02-23', '2022-03-23')"
   ]
  },
  {
   "cell_type": "code",
   "execution_count": null,
   "metadata": {},
   "outputs": [],
   "source": []
  },
  {
   "cell_type": "code",
   "execution_count": null,
   "metadata": {},
   "outputs": [],
   "source": []
  },
  {
   "cell_type": "code",
   "execution_count": 58,
   "metadata": {},
   "outputs": [
    {
     "ename": "NameError",
     "evalue": "name 'MCSimulation' is not defined",
     "output_type": "error",
     "traceback": [
      "\u001b[0;31m---------------------------------------------------------------------------\u001b[0m",
      "\u001b[0;31mNameError\u001b[0m                                 Traceback (most recent call last)",
      "\u001b[0;32m/var/folders/1z/zl3xctrs405bvlcjxg8l94000000gn/T/ipykernel_5922/1248698290.py\u001b[0m in \u001b[0;36m<module>\u001b[0;34m\u001b[0m\n\u001b[1;32m      1\u001b[0m \u001b[0;31m# Configuring a Monte Carlo simulation to forecast 30 years cumulative returns\u001b[0m\u001b[0;34m\u001b[0m\u001b[0;34m\u001b[0m\u001b[0;34m\u001b[0m\u001b[0m\n\u001b[0;32m----> 2\u001b[0;31m \u001b[0mMCSimulation\u001b[0m\u001b[0;34m(\u001b[0m\u001b[0mportfolio_data\u001b[0m \u001b[0;34m=\u001b[0m \u001b[0mdf_stock_data\u001b[0m\u001b[0;34m,\u001b[0m \u001b[0mweights\u001b[0m \u001b[0;34m=\u001b[0m \u001b[0;34m[\u001b[0m\u001b[0;36m.40\u001b[0m\u001b[0;34m,\u001b[0m\u001b[0;36m.60\u001b[0m\u001b[0;34m]\u001b[0m\u001b[0;34m,\u001b[0m \u001b[0mnum_simulation\u001b[0m \u001b[0;34m=\u001b[0m \u001b[0;36m500\u001b[0m\u001b[0;34m,\u001b[0m \u001b[0mnum_trading_days\u001b[0m \u001b[0;34m=\u001b[0m \u001b[0;36m252\u001b[0m\u001b[0;34m*\u001b[0m\u001b[0;36m30\u001b[0m\u001b[0;34m)\u001b[0m\u001b[0;34m\u001b[0m\u001b[0;34m\u001b[0m\u001b[0m\n\u001b[0m",
      "\u001b[0;31mNameError\u001b[0m: name 'MCSimulation' is not defined"
     ]
    }
   ],
   "source": [
    "# Configuring a Monte Carlo simulation to forecast 30 years cumulative returns\n",
    "MCSimulation(portfolio_data = df_stock_data, weights = [.40,.60], num_simulation = 500, num_trading_days = 252*30)"
   ]
  },
  {
   "cell_type": "code",
   "execution_count": 59,
   "metadata": {},
   "outputs": [],
   "source": [
    "# Printing the simulation input data\n",
    "# YOUR CODE HERE!"
   ]
  },
  {
   "cell_type": "code",
   "execution_count": 60,
   "metadata": {},
   "outputs": [],
   "source": [
    "# Running a Monte Carlo simulation to forecast 30 years cumulative returns\n",
    "# YOUR CODE HERE!"
   ]
  },
  {
   "cell_type": "code",
   "execution_count": 61,
   "metadata": {},
   "outputs": [],
   "source": [
    "# Plot simulation outcomes\n",
    "# YOUR CODE HERE!"
   ]
  },
  {
   "cell_type": "code",
   "execution_count": 62,
   "metadata": {},
   "outputs": [],
   "source": [
    "# Plot probability distribution and confidence intervals\n",
    "# YOUR CODE HERE!"
   ]
  },
  {
   "cell_type": "markdown",
   "metadata": {},
   "source": [
    "### Retirement Analysis"
   ]
  },
  {
   "cell_type": "code",
   "execution_count": 63,
   "metadata": {},
   "outputs": [],
   "source": [
    "# Fetch summary statistics from the Monte Carlo simulation results\n",
    "# YOUR CODE HERE!\n",
    "\n",
    "# Print summary statistics\n",
    "# YOUR CODE HERE!"
   ]
  },
  {
   "cell_type": "markdown",
   "metadata": {},
   "source": [
    "### Calculate the expected portfolio return at the `95%` lower and upper confidence intervals based on a `$20,000` initial investment."
   ]
  },
  {
   "cell_type": "code",
   "execution_count": 64,
   "metadata": {},
   "outputs": [
    {
     "ename": "NameError",
     "evalue": "name 'ci_lower' is not defined",
     "output_type": "error",
     "traceback": [
      "\u001b[0;31m---------------------------------------------------------------------------\u001b[0m",
      "\u001b[0;31mNameError\u001b[0m                                 Traceback (most recent call last)",
      "\u001b[0;32m/var/folders/1z/zl3xctrs405bvlcjxg8l94000000gn/T/ipykernel_5922/3412263078.py\u001b[0m in \u001b[0;36m<module>\u001b[0;34m\u001b[0m\n\u001b[1;32m      6\u001b[0m \u001b[0;34m\u001b[0m\u001b[0m\n\u001b[1;32m      7\u001b[0m \u001b[0;31m# Print results\u001b[0m\u001b[0;34m\u001b[0m\u001b[0;34m\u001b[0m\u001b[0;34m\u001b[0m\u001b[0m\n\u001b[0;32m----> 8\u001b[0;31m print(f\"There is a 95% chance that an initial investment of ${initial_investment} in the portfolio\"\n\u001b[0m\u001b[1;32m      9\u001b[0m       \u001b[0;34mf\" over the next 30 years will end within in the range of\"\u001b[0m\u001b[0;34m\u001b[0m\u001b[0;34m\u001b[0m\u001b[0m\n\u001b[1;32m     10\u001b[0m       f\" ${ci_lower} and ${ci_upper}\")\n",
      "\u001b[0;31mNameError\u001b[0m: name 'ci_lower' is not defined"
     ]
    }
   ],
   "source": [
    "# Set initial investment\n",
    "initial_investment = 20000\n",
    "\n",
    "# Use the lower and upper `95%` confidence intervals to calculate the range of the possible outcomes of our $20,000\n",
    "# YOUR CODE HERE!\n",
    "\n",
    "# Print results\n",
    "print(f\"There is a 95% chance that an initial investment of ${initial_investment} in the portfolio\"\n",
    "      f\" over the next 30 years will end within in the range of\"\n",
    "      f\" ${ci_lower} and ${ci_upper}\")"
   ]
  },
  {
   "cell_type": "markdown",
   "metadata": {},
   "source": [
    "### Calculate the expected portfolio return at the `95%` lower and upper confidence intervals based on a `50%` increase in the initial investment."
   ]
  },
  {
   "cell_type": "code",
   "execution_count": 65,
   "metadata": {},
   "outputs": [
    {
     "ename": "NameError",
     "evalue": "name 'ci_lower' is not defined",
     "output_type": "error",
     "traceback": [
      "\u001b[0;31m---------------------------------------------------------------------------\u001b[0m",
      "\u001b[0;31mNameError\u001b[0m                                 Traceback (most recent call last)",
      "\u001b[0;32m/var/folders/1z/zl3xctrs405bvlcjxg8l94000000gn/T/ipykernel_5922/3729936620.py\u001b[0m in \u001b[0;36m<module>\u001b[0;34m\u001b[0m\n\u001b[1;32m      6\u001b[0m \u001b[0;34m\u001b[0m\u001b[0m\n\u001b[1;32m      7\u001b[0m \u001b[0;31m# Print results\u001b[0m\u001b[0;34m\u001b[0m\u001b[0;34m\u001b[0m\u001b[0;34m\u001b[0m\u001b[0m\n\u001b[0;32m----> 8\u001b[0;31m print(f\"There is a 95% chance that an initial investment of ${initial_investment} in the portfolio\"\n\u001b[0m\u001b[1;32m      9\u001b[0m       \u001b[0;34mf\" over the next 30 years will end within in the range of\"\u001b[0m\u001b[0;34m\u001b[0m\u001b[0;34m\u001b[0m\u001b[0m\n\u001b[1;32m     10\u001b[0m       f\" ${ci_lower} and ${ci_upper}\")\n",
      "\u001b[0;31mNameError\u001b[0m: name 'ci_lower' is not defined"
     ]
    }
   ],
   "source": [
    "# Set initial investment\n",
    "initial_investment = 20000 * 1.5\n",
    "\n",
    "# Use the lower and upper `95%` confidence intervals to calculate the range of the possible outcomes of our $30,000\n",
    "# YOUR CODE HERE!\n",
    "\n",
    "# Print results\n",
    "print(f\"There is a 95% chance that an initial investment of ${initial_investment} in the portfolio\"\n",
    "      f\" over the next 30 years will end within in the range of\"\n",
    "      f\" ${ci_lower} and ${ci_upper}\")"
   ]
  },
  {
   "cell_type": "markdown",
   "metadata": {},
   "source": [
    "## Optional Challenge - Early Retirement\n",
    "\n",
    "\n",
    "### Five Years Retirement Option"
   ]
  },
  {
   "cell_type": "code",
   "execution_count": 66,
   "metadata": {},
   "outputs": [],
   "source": [
    "# Configuring a Monte Carlo simulation to forecast 5 years cumulative returns\n",
    "# YOUR CODE HERE!"
   ]
  },
  {
   "cell_type": "code",
   "execution_count": 67,
   "metadata": {},
   "outputs": [],
   "source": [
    "# Running a Monte Carlo simulation to forecast 5 years cumulative returns\n",
    "# YOUR CODE HERE!"
   ]
  },
  {
   "cell_type": "code",
   "execution_count": 68,
   "metadata": {},
   "outputs": [],
   "source": [
    "# Plot simulation outcomes\n",
    "# YOUR CODE HERE!"
   ]
  },
  {
   "cell_type": "code",
   "execution_count": 69,
   "metadata": {},
   "outputs": [],
   "source": [
    "# Plot probability distribution and confidence intervals\n",
    "# YOUR CODE HERE!"
   ]
  },
  {
   "cell_type": "code",
   "execution_count": 70,
   "metadata": {},
   "outputs": [],
   "source": [
    "# Fetch summary statistics from the Monte Carlo simulation results\n",
    "# YOUR CODE HERE!\n",
    "\n",
    "# Print summary statistics\n",
    "# YOUR CODE HERE!"
   ]
  },
  {
   "cell_type": "code",
   "execution_count": 71,
   "metadata": {},
   "outputs": [
    {
     "ename": "NameError",
     "evalue": "name 'ci_lower_five' is not defined",
     "output_type": "error",
     "traceback": [
      "\u001b[0;31m---------------------------------------------------------------------------\u001b[0m",
      "\u001b[0;31mNameError\u001b[0m                                 Traceback (most recent call last)",
      "\u001b[0;32m/var/folders/1z/zl3xctrs405bvlcjxg8l94000000gn/T/ipykernel_5922/2498605119.py\u001b[0m in \u001b[0;36m<module>\u001b[0;34m\u001b[0m\n\u001b[1;32m      6\u001b[0m \u001b[0;34m\u001b[0m\u001b[0m\n\u001b[1;32m      7\u001b[0m \u001b[0;31m# Print results\u001b[0m\u001b[0;34m\u001b[0m\u001b[0;34m\u001b[0m\u001b[0;34m\u001b[0m\u001b[0m\n\u001b[0;32m----> 8\u001b[0;31m print(f\"There is a 95% chance that an initial investment of ${initial_investment} in the portfolio\"\n\u001b[0m\u001b[1;32m      9\u001b[0m       \u001b[0;34mf\" over the next 5 years will end within in the range of\"\u001b[0m\u001b[0;34m\u001b[0m\u001b[0;34m\u001b[0m\u001b[0m\n\u001b[1;32m     10\u001b[0m       f\" ${ci_lower_five} and ${ci_upper_five}\")\n",
      "\u001b[0;31mNameError\u001b[0m: name 'ci_lower_five' is not defined"
     ]
    }
   ],
   "source": [
    "# Set initial investment\n",
    "# YOUR CODE HERE!\n",
    "\n",
    "# Use the lower and upper `95%` confidence intervals to calculate the range of the possible outcomes of our $60,000\n",
    "# YOUR CODE HERE!\n",
    "\n",
    "# Print results\n",
    "print(f\"There is a 95% chance that an initial investment of ${initial_investment} in the portfolio\"\n",
    "      f\" over the next 5 years will end within in the range of\"\n",
    "      f\" ${ci_lower_five} and ${ci_upper_five}\")"
   ]
  },
  {
   "cell_type": "markdown",
   "metadata": {},
   "source": [
    "### Ten Years Retirement Option"
   ]
  },
  {
   "cell_type": "code",
   "execution_count": 72,
   "metadata": {},
   "outputs": [],
   "source": [
    "# Configuring a Monte Carlo simulation to forecast 10 years cumulative returns\n",
    "# YOUR CODE HERE!"
   ]
  },
  {
   "cell_type": "code",
   "execution_count": 73,
   "metadata": {},
   "outputs": [],
   "source": [
    "# Running a Monte Carlo simulation to forecast 10 years cumulative returns\n",
    "# YOUR CODE HERE!"
   ]
  },
  {
   "cell_type": "code",
   "execution_count": 74,
   "metadata": {},
   "outputs": [],
   "source": [
    "# Plot simulation outcomes\n",
    "# YOUR CODE HERE!"
   ]
  },
  {
   "cell_type": "code",
   "execution_count": 75,
   "metadata": {},
   "outputs": [],
   "source": [
    "# Plot probability distribution and confidence intervals\n",
    "# YOUR CODE HERE!"
   ]
  },
  {
   "cell_type": "code",
   "execution_count": 76,
   "metadata": {},
   "outputs": [],
   "source": [
    "# Fetch summary statistics from the Monte Carlo simulation results\n",
    "# YOUR CODE HERE!\n",
    "\n",
    "# Print summary statistics\n",
    "# YOUR CODE HERE!"
   ]
  },
  {
   "cell_type": "code",
   "execution_count": 77,
   "metadata": {},
   "outputs": [
    {
     "ename": "NameError",
     "evalue": "name 'ci_lower_ten' is not defined",
     "output_type": "error",
     "traceback": [
      "\u001b[0;31m---------------------------------------------------------------------------\u001b[0m",
      "\u001b[0;31mNameError\u001b[0m                                 Traceback (most recent call last)",
      "\u001b[0;32m/var/folders/1z/zl3xctrs405bvlcjxg8l94000000gn/T/ipykernel_5922/2059225303.py\u001b[0m in \u001b[0;36m<module>\u001b[0;34m\u001b[0m\n\u001b[1;32m      6\u001b[0m \u001b[0;34m\u001b[0m\u001b[0m\n\u001b[1;32m      7\u001b[0m \u001b[0;31m# Print results\u001b[0m\u001b[0;34m\u001b[0m\u001b[0;34m\u001b[0m\u001b[0;34m\u001b[0m\u001b[0m\n\u001b[0;32m----> 8\u001b[0;31m print(f\"There is a 95% chance that an initial investment of ${initial_investment} in the portfolio\"\n\u001b[0m\u001b[1;32m      9\u001b[0m       \u001b[0;34mf\" over the next 10 years will end within in the range of\"\u001b[0m\u001b[0;34m\u001b[0m\u001b[0;34m\u001b[0m\u001b[0m\n\u001b[1;32m     10\u001b[0m       f\" ${ci_lower_ten} and ${ci_upper_ten}\")\n",
      "\u001b[0;31mNameError\u001b[0m: name 'ci_lower_ten' is not defined"
     ]
    }
   ],
   "source": [
    "# Set initial investment\n",
    "# YOUR CODE HERE!\n",
    "\n",
    "# Use the lower and upper `95%` confidence intervals to calculate the range of the possible outcomes of our $60,000\n",
    "# YOUR CODE HERE!\n",
    "\n",
    "# Print results\n",
    "print(f\"There is a 95% chance that an initial investment of ${initial_investment} in the portfolio\"\n",
    "      f\" over the next 10 years will end within in the range of\"\n",
    "      f\" ${ci_lower_ten} and ${ci_upper_ten}\")"
   ]
  },
  {
   "cell_type": "code",
   "execution_count": null,
   "metadata": {},
   "outputs": [],
   "source": []
  },
  {
   "cell_type": "code",
   "execution_count": null,
   "metadata": {},
   "outputs": [],
   "source": []
  },
  {
   "cell_type": "code",
   "execution_count": null,
   "metadata": {},
   "outputs": [],
   "source": []
  }
 ],
 "metadata": {
  "kernelspec": {
   "display_name": "Python 3 (ipykernel)",
   "language": "python",
   "name": "python3"
  },
  "language_info": {
   "codemirror_mode": {
    "name": "ipython",
    "version": 3
   },
   "file_extension": ".py",
   "mimetype": "text/x-python",
   "name": "python",
   "nbconvert_exporter": "python",
   "pygments_lexer": "ipython3",
   "version": "3.9.7"
  },
  "nteract": {
   "version": "0.28.0"
  }
 },
 "nbformat": 4,
 "nbformat_minor": 4
}
